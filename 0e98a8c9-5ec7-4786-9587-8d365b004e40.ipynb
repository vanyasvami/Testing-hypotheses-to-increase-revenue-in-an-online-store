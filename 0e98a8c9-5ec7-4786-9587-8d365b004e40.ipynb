{
 "cells": [
  {
   "cell_type": "markdown",
   "metadata": {},
   "source": [
    "# Обзор данных"
   ]
  },
  {
   "cell_type": "code",
   "execution_count": 115,
   "metadata": {},
   "outputs": [],
   "source": [
    "import pandas as pd\n",
    "import datetime as dt\n",
    "import numpy as np\n",
    "import matplotlib.pyplot as plt\n",
    "from pandas.plotting import register_matplotlib_converters\n",
    "import warnings\n",
    "import seaborn as sns\n",
    "import scipy.stats as stats"
   ]
  },
  {
   "cell_type": "code",
   "execution_count": 116,
   "metadata": {},
   "outputs": [],
   "source": [
    "data = pd.read_csv('/datasets/hypothesis.csv')\n",
    "data.columns = map(str.lower, data.columns)"
   ]
  },
  {
   "cell_type": "markdown",
   "metadata": {},
   "source": [
    "# Часть 1. Приоритизация гипотез"
   ]
  },
  {
   "cell_type": "code",
   "execution_count": 118,
   "metadata": {},
   "outputs": [
    {
     "data": {
      "text/html": [
       "<div>\n",
       "<style scoped>\n",
       "    .dataframe tbody tr th:only-of-type {\n",
       "        vertical-align: middle;\n",
       "    }\n",
       "\n",
       "    .dataframe tbody tr th {\n",
       "        vertical-align: top;\n",
       "    }\n",
       "\n",
       "    .dataframe thead th {\n",
       "        text-align: right;\n",
       "    }\n",
       "</style>\n",
       "<table border=\"1\" class=\"dataframe\">\n",
       "  <thead>\n",
       "    <tr style=\"text-align: right;\">\n",
       "      <th></th>\n",
       "      <th>hypothesis</th>\n",
       "      <th>ICE</th>\n",
       "    </tr>\n",
       "  </thead>\n",
       "  <tbody>\n",
       "    <tr>\n",
       "      <th>8</th>\n",
       "      <td>Запустить акцию, дающую скидку на товар в день...</td>\n",
       "      <td>16.20</td>\n",
       "    </tr>\n",
       "    <tr>\n",
       "      <th>0</th>\n",
       "      <td>Добавить два новых канала привлечения трафика,...</td>\n",
       "      <td>13.33</td>\n",
       "    </tr>\n",
       "    <tr>\n",
       "      <th>7</th>\n",
       "      <td>Добавить форму подписки на все основные страни...</td>\n",
       "      <td>11.20</td>\n",
       "    </tr>\n",
       "    <tr>\n",
       "      <th>6</th>\n",
       "      <td>Показать на главной странице баннеры с актуаль...</td>\n",
       "      <td>8.00</td>\n",
       "    </tr>\n",
       "    <tr>\n",
       "      <th>2</th>\n",
       "      <td>Добавить блоки рекомендаций товаров на сайт ин...</td>\n",
       "      <td>7.00</td>\n",
       "    </tr>\n",
       "    <tr>\n",
       "      <th>1</th>\n",
       "      <td>Запустить собственную службу доставки, что сок...</td>\n",
       "      <td>2.00</td>\n",
       "    </tr>\n",
       "    <tr>\n",
       "      <th>5</th>\n",
       "      <td>Добавить страницу отзывов клиентов о магазине,...</td>\n",
       "      <td>1.33</td>\n",
       "    </tr>\n",
       "    <tr>\n",
       "      <th>3</th>\n",
       "      <td>Изменить структура категорий, что увеличит кон...</td>\n",
       "      <td>1.12</td>\n",
       "    </tr>\n",
       "    <tr>\n",
       "      <th>4</th>\n",
       "      <td>Изменить цвет фона главной страницы, чтобы уве...</td>\n",
       "      <td>1.00</td>\n",
       "    </tr>\n",
       "  </tbody>\n",
       "</table>\n",
       "</div>"
      ],
      "text/plain": [
       "                                          hypothesis    ICE\n",
       "8  Запустить акцию, дающую скидку на товар в день...  16.20\n",
       "0  Добавить два новых канала привлечения трафика,...  13.33\n",
       "7  Добавить форму подписки на все основные страни...  11.20\n",
       "6  Показать на главной странице баннеры с актуаль...   8.00\n",
       "2  Добавить блоки рекомендаций товаров на сайт ин...   7.00\n",
       "1  Запустить собственную службу доставки, что сок...   2.00\n",
       "5  Добавить страницу отзывов клиентов о магазине,...   1.33\n",
       "3  Изменить структура категорий, что увеличит кон...   1.12\n",
       "4  Изменить цвет фона главной страницы, чтобы уве...   1.00"
      ]
     },
     "execution_count": 118,
     "metadata": {},
     "output_type": "execute_result"
    }
   ],
   "source": [
    "data['ICE'] = round (data['impact'] * data['confidence'] / data['efforts'], 2)\n",
    "data[['hypothesis', 'ICE']].sort_values(by = 'ICE', ascending= False)"
   ]
  },
  {
   "cell_type": "code",
   "execution_count": 119,
   "metadata": {},
   "outputs": [
    {
     "data": {
      "text/html": [
       "<div>\n",
       "<style scoped>\n",
       "    .dataframe tbody tr th:only-of-type {\n",
       "        vertical-align: middle;\n",
       "    }\n",
       "\n",
       "    .dataframe tbody tr th {\n",
       "        vertical-align: top;\n",
       "    }\n",
       "\n",
       "    .dataframe thead th {\n",
       "        text-align: right;\n",
       "    }\n",
       "</style>\n",
       "<table border=\"1\" class=\"dataframe\">\n",
       "  <thead>\n",
       "    <tr style=\"text-align: right;\">\n",
       "      <th></th>\n",
       "      <th>hypothesis</th>\n",
       "      <th>RICE</th>\n",
       "    </tr>\n",
       "  </thead>\n",
       "  <tbody>\n",
       "    <tr>\n",
       "      <th>7</th>\n",
       "      <td>Добавить форму подписки на все основные страни...</td>\n",
       "      <td>112.0</td>\n",
       "    </tr>\n",
       "    <tr>\n",
       "      <th>2</th>\n",
       "      <td>Добавить блоки рекомендаций товаров на сайт ин...</td>\n",
       "      <td>56.0</td>\n",
       "    </tr>\n",
       "    <tr>\n",
       "      <th>0</th>\n",
       "      <td>Добавить два новых канала привлечения трафика,...</td>\n",
       "      <td>40.0</td>\n",
       "    </tr>\n",
       "    <tr>\n",
       "      <th>6</th>\n",
       "      <td>Показать на главной странице баннеры с актуаль...</td>\n",
       "      <td>40.0</td>\n",
       "    </tr>\n",
       "    <tr>\n",
       "      <th>8</th>\n",
       "      <td>Запустить акцию, дающую скидку на товар в день...</td>\n",
       "      <td>16.2</td>\n",
       "    </tr>\n",
       "    <tr>\n",
       "      <th>3</th>\n",
       "      <td>Изменить структура категорий, что увеличит кон...</td>\n",
       "      <td>9.0</td>\n",
       "    </tr>\n",
       "    <tr>\n",
       "      <th>1</th>\n",
       "      <td>Запустить собственную службу доставки, что сок...</td>\n",
       "      <td>4.0</td>\n",
       "    </tr>\n",
       "    <tr>\n",
       "      <th>5</th>\n",
       "      <td>Добавить страницу отзывов клиентов о магазине,...</td>\n",
       "      <td>4.0</td>\n",
       "    </tr>\n",
       "    <tr>\n",
       "      <th>4</th>\n",
       "      <td>Изменить цвет фона главной страницы, чтобы уве...</td>\n",
       "      <td>3.0</td>\n",
       "    </tr>\n",
       "  </tbody>\n",
       "</table>\n",
       "</div>"
      ],
      "text/plain": [
       "                                          hypothesis   RICE\n",
       "7  Добавить форму подписки на все основные страни...  112.0\n",
       "2  Добавить блоки рекомендаций товаров на сайт ин...   56.0\n",
       "0  Добавить два новых канала привлечения трафика,...   40.0\n",
       "6  Показать на главной странице баннеры с актуаль...   40.0\n",
       "8  Запустить акцию, дающую скидку на товар в день...   16.2\n",
       "3  Изменить структура категорий, что увеличит кон...    9.0\n",
       "1  Запустить собственную службу доставки, что сок...    4.0\n",
       "5  Добавить страницу отзывов клиентов о магазине,...    4.0\n",
       "4  Изменить цвет фона главной страницы, чтобы уве...    3.0"
      ]
     },
     "execution_count": 119,
     "metadata": {},
     "output_type": "execute_result"
    }
   ],
   "source": [
    "data['RICE'] = data['reach'] * data['impact'] * data['confidence'] / data['efforts']\n",
    "data[['hypothesis', 'RICE']].sort_values(by = 'RICE', ascending= False)"
   ]
  },
  {
   "cell_type": "markdown",
   "metadata": {},
   "source": [
    "**Вывод:**   \n",
    "По фреймворку ICE наиболее приоритетными являются следующие гипотезы:\n",
    "1. Запустить акцию, дающую скидку на товар в день рождения\n",
    "2. Добавить два новых канала привлечения трафика, что позволит привлекать на 30% больше пользователей\n",
    "3. Добавить форму подписки на все основные страницы, чтобы собрать базу клиентов для email-рассылок  \n",
    "\n",
    "По фреймворку RICE наиболее приоритетные гипотезы:\n",
    "1. Добавить форму подписки на все основные страницы, чтобы собрать базу клиентов для email-рассылок\n",
    "2. Добавить блоки рекомендаций товаров на сайт интернет магазина, чтобы повысить конверсию и средний чек заказа\n",
    "3. Добавить два новых канала привлечения трафика, что позволит привлекать на 30% больше пользователей  \n",
    "\n",
    "Важно отметить, что фреймворк RICE учитывает параметр Reach (скольких пользователей затронет изменение, которое вы хотите внести), в связи с чем в лидеры вышли гипотезы с наибольшим охватом пользователей."
   ]
  },
  {
   "cell_type": "markdown",
   "metadata": {},
   "source": [
    "# Часть 2. Анализ A/B-теста"
   ]
  },
  {
   "cell_type": "code",
   "execution_count": 120,
   "metadata": {},
   "outputs": [],
   "source": [
    "orders = pd.read_csv('/datasets/orders.csv')\n",
    "visitors = pd.read_csv('/datasets/visitors.csv')"
   ]
  },
  {
   "cell_type": "code",
   "execution_count": 122,
   "metadata": {},
   "outputs": [
    {
     "name": "stdout",
     "output_type": "stream",
     "text": [
      "<class 'pandas.core.frame.DataFrame'>\n",
      "RangeIndex: 1197 entries, 0 to 1196\n",
      "Data columns (total 5 columns):\n",
      " #   Column         Non-Null Count  Dtype \n",
      "---  ------         --------------  ----- \n",
      " 0   transactionId  1197 non-null   int64 \n",
      " 1   visitorId      1197 non-null   int64 \n",
      " 2   date           1197 non-null   object\n",
      " 3   revenue        1197 non-null   int64 \n",
      " 4   group          1197 non-null   object\n",
      "dtypes: int64(3), object(2)\n",
      "memory usage: 46.9+ KB\n",
      "<class 'pandas.core.frame.DataFrame'>\n",
      "RangeIndex: 62 entries, 0 to 61\n",
      "Data columns (total 3 columns):\n",
      " #   Column    Non-Null Count  Dtype \n",
      "---  ------    --------------  ----- \n",
      " 0   date      62 non-null     object\n",
      " 1   group     62 non-null     object\n",
      " 2   visitors  62 non-null     int64 \n",
      "dtypes: int64(1), object(2)\n",
      "memory usage: 1.6+ KB\n"
     ]
    }
   ],
   "source": [
    "orders.info()\n",
    "visitors.info()"
   ]
  },
  {
   "cell_type": "code",
   "execution_count": 123,
   "metadata": {},
   "outputs": [],
   "source": [
    "orders['date'] = pd.to_datetime(orders['date'])\n",
    "visitors['date'] = pd.to_datetime(visitors['date'])"
   ]
  },
  {
   "cell_type": "code",
   "execution_count": 124,
   "metadata": {},
   "outputs": [
    {
     "name": "stdout",
     "output_type": "stream",
     "text": [
      "<class 'pandas.core.frame.DataFrame'>\n",
      "RangeIndex: 1197 entries, 0 to 1196\n",
      "Data columns (total 5 columns):\n",
      " #   Column         Non-Null Count  Dtype         \n",
      "---  ------         --------------  -----         \n",
      " 0   transactionId  1197 non-null   int64         \n",
      " 1   visitorId      1197 non-null   int64         \n",
      " 2   date           1197 non-null   datetime64[ns]\n",
      " 3   revenue        1197 non-null   int64         \n",
      " 4   group          1197 non-null   object        \n",
      "dtypes: datetime64[ns](1), int64(3), object(1)\n",
      "memory usage: 46.9+ KB\n",
      "<class 'pandas.core.frame.DataFrame'>\n",
      "RangeIndex: 62 entries, 0 to 61\n",
      "Data columns (total 3 columns):\n",
      " #   Column    Non-Null Count  Dtype         \n",
      "---  ------    --------------  -----         \n",
      " 0   date      62 non-null     datetime64[ns]\n",
      " 1   group     62 non-null     object        \n",
      " 2   visitors  62 non-null     int64         \n",
      "dtypes: datetime64[ns](1), int64(1), object(1)\n",
      "memory usage: 1.6+ KB\n"
     ]
    }
   ],
   "source": [
    "orders.info()\n",
    "visitors.info()"
   ]
  },
  {
   "cell_type": "code",
   "execution_count": 125,
   "metadata": {},
   "outputs": [
    {
     "data": {
      "text/plain": [
       "0"
      ]
     },
     "execution_count": 125,
     "metadata": {},
     "output_type": "execute_result"
    }
   ],
   "source": [
    "orders.duplicated().sum()"
   ]
  },
  {
   "cell_type": "code",
   "execution_count": 126,
   "metadata": {},
   "outputs": [
    {
     "data": {
      "text/plain": [
       "transactionId    0\n",
       "visitorId        0\n",
       "date             0\n",
       "revenue          0\n",
       "group            0\n",
       "dtype: int64"
      ]
     },
     "execution_count": 126,
     "metadata": {},
     "output_type": "execute_result"
    }
   ],
   "source": [
    "orders.isna().sum()"
   ]
  },
  {
   "cell_type": "code",
   "execution_count": 127,
   "metadata": {},
   "outputs": [
    {
     "data": {
      "text/plain": [
       "0"
      ]
     },
     "execution_count": 127,
     "metadata": {},
     "output_type": "execute_result"
    }
   ],
   "source": [
    "visitors.duplicated().sum()"
   ]
  },
  {
   "cell_type": "code",
   "execution_count": 128,
   "metadata": {},
   "outputs": [
    {
     "data": {
      "text/plain": [
       "date        0\n",
       "group       0\n",
       "visitors    0\n",
       "dtype: int64"
      ]
     },
     "execution_count": 128,
     "metadata": {},
     "output_type": "execute_result"
    }
   ],
   "source": [
    "visitors.isna().sum()"
   ]
  },
  {
   "cell_type": "code",
   "execution_count": 129,
   "metadata": {},
   "outputs": [
    {
     "data": {
      "text/html": [
       "<div>\n",
       "<style scoped>\n",
       "    .dataframe tbody tr th:only-of-type {\n",
       "        vertical-align: middle;\n",
       "    }\n",
       "\n",
       "    .dataframe tbody tr th {\n",
       "        vertical-align: top;\n",
       "    }\n",
       "\n",
       "    .dataframe thead th {\n",
       "        text-align: right;\n",
       "    }\n",
       "</style>\n",
       "<table border=\"1\" class=\"dataframe\">\n",
       "  <thead>\n",
       "    <tr style=\"text-align: right;\">\n",
       "      <th></th>\n",
       "      <th>transactionId</th>\n",
       "      <th>visitorId</th>\n",
       "      <th>date</th>\n",
       "      <th>revenue</th>\n",
       "      <th>group</th>\n",
       "    </tr>\n",
       "  </thead>\n",
       "  <tbody>\n",
       "    <tr>\n",
       "      <th>2</th>\n",
       "      <td>2961555356</td>\n",
       "      <td>4069496402</td>\n",
       "      <td>2019-08-15</td>\n",
       "      <td>400</td>\n",
       "      <td>A</td>\n",
       "    </tr>\n",
       "    <tr>\n",
       "      <th>15</th>\n",
       "      <td>2550768810</td>\n",
       "      <td>2742574263</td>\n",
       "      <td>2019-08-15</td>\n",
       "      <td>15277</td>\n",
       "      <td>B</td>\n",
       "    </tr>\n",
       "    <tr>\n",
       "      <th>20</th>\n",
       "      <td>2904772834</td>\n",
       "      <td>963407295</td>\n",
       "      <td>2019-08-15</td>\n",
       "      <td>300</td>\n",
       "      <td>B</td>\n",
       "    </tr>\n",
       "    <tr>\n",
       "      <th>23</th>\n",
       "      <td>4252514150</td>\n",
       "      <td>351125977</td>\n",
       "      <td>2019-08-15</td>\n",
       "      <td>15185</td>\n",
       "      <td>B</td>\n",
       "    </tr>\n",
       "    <tr>\n",
       "      <th>24</th>\n",
       "      <td>1162046357</td>\n",
       "      <td>3234906277</td>\n",
       "      <td>2019-08-15</td>\n",
       "      <td>7555</td>\n",
       "      <td>B</td>\n",
       "    </tr>\n",
       "    <tr>\n",
       "      <th>...</th>\n",
       "      <td>...</td>\n",
       "      <td>...</td>\n",
       "      <td>...</td>\n",
       "      <td>...</td>\n",
       "      <td>...</td>\n",
       "    </tr>\n",
       "    <tr>\n",
       "      <th>1182</th>\n",
       "      <td>2682156369</td>\n",
       "      <td>1668030113</td>\n",
       "      <td>2019-08-14</td>\n",
       "      <td>1290</td>\n",
       "      <td>B</td>\n",
       "    </tr>\n",
       "    <tr>\n",
       "      <th>1183</th>\n",
       "      <td>1458356232</td>\n",
       "      <td>963407295</td>\n",
       "      <td>2019-08-14</td>\n",
       "      <td>4940</td>\n",
       "      <td>A</td>\n",
       "    </tr>\n",
       "    <tr>\n",
       "      <th>1184</th>\n",
       "      <td>1329499668</td>\n",
       "      <td>2949041841</td>\n",
       "      <td>2019-08-14</td>\n",
       "      <td>10380</td>\n",
       "      <td>B</td>\n",
       "    </tr>\n",
       "    <tr>\n",
       "      <th>1189</th>\n",
       "      <td>4082620617</td>\n",
       "      <td>393266494</td>\n",
       "      <td>2019-08-14</td>\n",
       "      <td>31550</td>\n",
       "      <td>B</td>\n",
       "    </tr>\n",
       "    <tr>\n",
       "      <th>1195</th>\n",
       "      <td>1947021204</td>\n",
       "      <td>1614305549</td>\n",
       "      <td>2019-08-14</td>\n",
       "      <td>100</td>\n",
       "      <td>A</td>\n",
       "    </tr>\n",
       "  </tbody>\n",
       "</table>\n",
       "<p>260 rows × 5 columns</p>\n",
       "</div>"
      ],
      "text/plain": [
       "      transactionId   visitorId       date  revenue group\n",
       "2        2961555356  4069496402 2019-08-15      400     A\n",
       "15       2550768810  2742574263 2019-08-15    15277     B\n",
       "20       2904772834   963407295 2019-08-15      300     B\n",
       "23       4252514150   351125977 2019-08-15    15185     B\n",
       "24       1162046357  3234906277 2019-08-15     7555     B\n",
       "...             ...         ...        ...      ...   ...\n",
       "1182     2682156369  1668030113 2019-08-14     1290     B\n",
       "1183     1458356232   963407295 2019-08-14     4940     A\n",
       "1184     1329499668  2949041841 2019-08-14    10380     B\n",
       "1189     4082620617   393266494 2019-08-14    31550     B\n",
       "1195     1947021204  1614305549 2019-08-14      100     A\n",
       "\n",
       "[260 rows x 5 columns]"
      ]
     },
     "execution_count": 129,
     "metadata": {},
     "output_type": "execute_result"
    }
   ],
   "source": [
    "duplicate_visitors = orders[orders[['visitorId']].duplicated(keep=False)]"
   ]
  },
  {
   "cell_type": "code",
   "execution_count": 130,
   "metadata": {},
   "outputs": [
    {
     "data": {
      "text/plain": [
       "94"
      ]
     },
     "execution_count": 130,
     "metadata": {},
     "output_type": "execute_result"
    }
   ],
   "source": [
    "duplicate_visitors['visitorId'].nunique()"
   ]
  },
  {
   "cell_type": "code",
   "execution_count": 131,
   "metadata": {},
   "outputs": [
    {
     "data": {
      "text/plain": [
       "visitorId\n",
       "5114589       1\n",
       "6958315       1\n",
       "8300375       2\n",
       "11685486      1\n",
       "39475350      1\n",
       "             ..\n",
       "4266935830    2\n",
       "4278982564    1\n",
       "4279090005    1\n",
       "4281247801    1\n",
       "4283872382    1\n",
       "Name: group, Length: 1031, dtype: int64"
      ]
     },
     "execution_count": 131,
     "metadata": {},
     "output_type": "execute_result"
    }
   ],
   "source": [
    "user_groups = orders.groupby('visitorId')['group'].nunique()\n",
    "user_groups "
   ]
  },
  {
   "cell_type": "code",
   "execution_count": 132,
   "metadata": {},
   "outputs": [
    {
     "data": {
      "text/plain": [
       "58"
      ]
     },
     "execution_count": 132,
     "metadata": {},
     "output_type": "execute_result"
    }
   ],
   "source": [
    "users_in_multiple_groups = user_groups[user_groups > 1]\n",
    "users_in_multiple_groups_count = users_in_multiple_groups.count()\n",
    "users_in_multiple_groups_count"
   ]
  },
  {
   "cell_type": "code",
   "execution_count": 133,
   "metadata": {},
   "outputs": [],
   "source": [
    "ord_1 = orders['visitorId'].nunique()"
   ]
  },
  {
   "cell_type": "code",
   "execution_count": 134,
   "metadata": {},
   "outputs": [
    {
     "data": {
      "text/plain": [
       "5.63"
      ]
     },
     "execution_count": 134,
     "metadata": {},
     "output_type": "execute_result"
    }
   ],
   "source": [
    "round(users_in_multiple_groups_count * 100 / ord_1, 2)"
   ]
  },
  {
   "cell_type": "markdown",
   "metadata": {},
   "source": [
    "Мы посчитали долю пользователей, которые встречаются в двух группах одновременно (она составила 5,63%). Учитывая незначительность количества таких пользователей, а также минимальное влияние на само исследование и достижение бизнес-целей, считаю правильным не удалять их и оставить в рамках последующего анализа.  \n",
    "\n",
    "**Продолжим работу с данными с учетом данных пользователей.**"
   ]
  },
  {
   "cell_type": "markdown",
   "metadata": {},
   "source": [
    "Дубликатов и пропусков нет. Тип данных приведен к необходимому для анализа"
   ]
  },
  {
   "cell_type": "markdown",
   "metadata": {},
   "source": [
    "### Построим график кумулятивной выручки по группам. Сделаем выводы и предположения."
   ]
  },
  {
   "cell_type": "code",
   "execution_count": 135,
   "metadata": {},
   "outputs": [],
   "source": [
    "datesGroups = orders[['date', 'group']].drop_duplicates()\n",
    "\n",
    "ordersAggregated = datesGroups.apply(\n",
    "    lambda x: orders[\n",
    "        np.logical_and(\n",
    "            orders['date'] <= x['date'], orders['group'] == x['group']\n",
    "        )\n",
    "    ].agg(\n",
    "        {\n",
    "            'date': 'max',\n",
    "            'group': 'max',\n",
    "            'transactionId': 'nunique',\n",
    "            'visitorId': 'nunique',\n",
    "            'revenue': 'sum',\n",
    "        }\n",
    "    ),\n",
    "    axis=1,\n",
    ").sort_values(by=['date', 'group'])\n",
    "\n",
    "visitorsAggregated = datesGroups.apply(\n",
    "    lambda x: visitors[\n",
    "        np.logical_and(\n",
    "            visitors['date'] <= x['date'], visitors['group'] == x['group']\n",
    "        )\n",
    "    ].agg({'date': 'max', 'group': 'max', 'visitors': 'sum'}),\n",
    "    axis=1,\n",
    ").sort_values(by=['date', 'group'])\n",
    "\n",
    "cumulativeData = ordersAggregated.merge(\n",
    "    visitorsAggregated, left_on=['date', 'group'], right_on=['date', 'group']\n",
    ")\n",
    "cumulativeData.columns = [\n",
    "    'date',\n",
    "    'group',\n",
    "    'orders',\n",
    "    'buyers',\n",
    "    'revenue',\n",
    "    'visitors',\n",
    "]\n",
    "cumulativeRevenueA = cumulativeData[cumulativeData['group']=='A'][['date','revenue', 'orders']]\n",
    "cumulativeRevenueB = cumulativeData[cumulativeData['group']=='B'][['date','revenue', 'orders']]"
   ]
  },
  {
   "cell_type": "code",
   "execution_count": 136,
   "metadata": {},
   "outputs": [
    {
     "data": {
      "image/png": "[encoded data removed]",
      "text/plain": [
       "<Figure size 1080x504 with 1 Axes>"
      ]
     },
     "metadata": {
      "needs_background": "light"
     },
     "output_type": "display_data"
    }
   ],
   "source": [
    "plt.figure(figsize = (15,7))\n",
    "plt.title('Кумулятивная выручка по группам')\n",
    "plt.plot(cumulativeRevenueA['date'], cumulativeRevenueA['revenue'], label='A')\n",
    "\n",
    "# Строим график выручки группы B\n",
    "plt.plot(cumulativeRevenueB['date'], cumulativeRevenueB['revenue'], label='B')\n",
    "plt.xlabel('Выручка')\n",
    "plt.ylabel('Дата')\n",
    "plt.legend()\n",
    "plt.show()"
   ]
  },
  {
   "cell_type": "markdown",
   "metadata": {},
   "source": [
    "По графику видно, что выручка в обеих группах растет. При этом с 05.08 в группе В показатель выручки стал выше того же показателя группы А. Показатели сравнились 13.08 числа, но дальше выручка группы В стабильно выше. С 18 на 19 число наблюдается резкое увеличение показателя выручки группы В: причиной может быть либо резкое увеличение числа продаж, либо иные причины."
   ]
  },
  {
   "cell_type": "markdown",
   "metadata": {},
   "source": [
    "### Построим график кумулятивного среднего чека по группам. Сделаем выводы и предположения."
   ]
  },
  {
   "cell_type": "code",
   "execution_count": 137,
   "metadata": {},
   "outputs": [
    {
     "data": {
      "text/plain": [
       "<matplotlib.legend.Legend at 0x7f96584abf40>"
      ]
     },
     "execution_count": 137,
     "metadata": {},
     "output_type": "execute_result"
    },
    {
     "data": {
      "image/png": "[encoded data removed]",
      "text/plain": [
       "<Figure size 1080x504 with 1 Axes>"
      ]
     },
     "metadata": {
      "needs_background": "light"
     },
     "output_type": "display_data"
    }
   ],
   "source": [
    "plt.figure(figsize = (15,7))\n",
    "plt.title('Кумулятивный средний чек по группам')\n",
    "plt.plot(cumulativeRevenueA['date'], cumulativeRevenueA['revenue']/cumulativeRevenueA['orders'], label='A')\n",
    "plt.plot(cumulativeRevenueB['date'], cumulativeRevenueB['revenue']/cumulativeRevenueB['orders'], label='B')\n",
    "plt.xlabel('Дата')\n",
    "plt.ylabel('Средний чек')\n",
    "plt.legend() "
   ]
  },
  {
   "cell_type": "markdown",
   "metadata": {},
   "source": [
    "По графику видны достаточно резкие перепады как и у группы А, так и у группы В. В какие то периоды средний чек выше у группы А, в какие то наоборот - у группы В. У группы В также наблюдается резкий рост показателя среднего чека (возможно попали крупные заказы). К концу графика показатели стабилизируются."
   ]
  },
  {
   "cell_type": "markdown",
   "metadata": {},
   "source": [
    "### Построим график относительного изменения кумулятивного среднего чека группы B к группе A. Сделаем выводы и предположения."
   ]
  },
  {
   "cell_type": "code",
   "execution_count": 138,
   "metadata": {},
   "outputs": [
    {
     "data": {
      "text/plain": [
       "<matplotlib.lines.Line2D at 0x7f9658338730>"
      ]
     },
     "execution_count": 138,
     "metadata": {},
     "output_type": "execute_result"
    },
    {
     "data": {
      "image/png": "[encoded data removed]",
      "text/plain": [
       "<Figure size 1080x504 with 1 Axes>"
      ]
     },
     "metadata": {
      "needs_background": "light"
     },
     "output_type": "display_data"
    }
   ],
   "source": [
    "mergedCumulativeRevenue = cumulativeRevenueA.merge(cumulativeRevenueB, left_on='date', right_on='date', how='left', suffixes=['A', 'B'])\n",
    "plt.figure(figsize = (15,7))\n",
    "# cтроим отношение средних чеков\n",
    "plt.title('Относительное изменение кумулятивного среднего чека группы B к группе A')\n",
    "plt.plot(mergedCumulativeRevenue['date'], (mergedCumulativeRevenue['revenueB']/mergedCumulativeRevenue['ordersB'])/(mergedCumulativeRevenue['revenueA']/mergedCumulativeRevenue['ordersA'])-1)\n",
    "plt.xlabel('Дата')\n",
    "# добавляем ось X\n",
    "plt.axhline(y=0, color='black', linestyle='--') "
   ]
  },
  {
   "cell_type": "markdown",
   "metadata": {},
   "source": [
    "По графику видно, что группа В в целом стабильно выше лучше группы А. При этом наблюдаются резкие скачки, что говорит о резких заказах или выбросах."
   ]
  },
  {
   "cell_type": "markdown",
   "metadata": {},
   "source": [
    "### Построим график кумулятивного среднего количества заказов на посетителя по группам. Сделаем выводы и предположения."
   ]
  },
  {
   "cell_type": "code",
   "execution_count": 139,
   "metadata": {},
   "outputs": [
    {
     "data": {
      "text/plain": [
       "<matplotlib.legend.Legend at 0x7f9663ecf430>"
      ]
     },
     "execution_count": 139,
     "metadata": {},
     "output_type": "execute_result"
    },
    {
     "data": {
      "image/png": "[encoded data removed]",
      "text/plain": [
       "<Figure size 1080x504 with 1 Axes>"
      ]
     },
     "metadata": {
      "needs_background": "light"
     },
     "output_type": "display_data"
    }
   ],
   "source": [
    "cumulativeData['conversion'] = cumulativeData['orders']/cumulativeData['visitors']\n",
    "\n",
    "# отделяем данные по группе A\n",
    "cumulativeDataA = cumulativeData[cumulativeData['group']=='A']\n",
    "\n",
    "# отделяем данные по группе B\n",
    "cumulativeDataB = cumulativeData[cumulativeData['group']=='B']\n",
    "\n",
    "plt.figure(figsize = (15,7))\n",
    "plt.title('Кумулятивное среднее количества заказов на посетителя по группам')\n",
    "plt.plot(cumulativeDataA['date'], cumulativeDataA['conversion'], label='A')\n",
    "plt.plot(cumulativeDataB['date'], cumulativeDataB['conversion'], label='B')\n",
    "plt.xlabel('Дата')\n",
    "plt.ylabel('Среднее количество заказов')\n",
    "plt.legend()\n"
   ]
  },
  {
   "cell_type": "markdown",
   "metadata": {},
   "source": [
    "Показатели групп А и В стабилизировались на 09.08.2019. Группа В стабильно показала лучший показатель среднего кол-ва покупок на посетителя с момента стабилизации."
   ]
  },
  {
   "cell_type": "markdown",
   "metadata": {},
   "source": [
    "### Построим график относительного изменения кумулятивного среднего количества заказов на посетителя группы B к группе A. Сделаем выводы и предположения."
   ]
  },
  {
   "cell_type": "code",
   "execution_count": 140,
   "metadata": {},
   "outputs": [
    {
     "data": {
      "text/plain": [
       "<matplotlib.lines.Line2D at 0x7f9658497ac0>"
      ]
     },
     "execution_count": 140,
     "metadata": {},
     "output_type": "execute_result"
    },
    {
     "data": {
      "image/png": "[encoded data removed]",
      "text/plain": [
       "<Figure size 1080x504 with 1 Axes>"
      ]
     },
     "metadata": {
      "needs_background": "light"
     },
     "output_type": "display_data"
    }
   ],
   "source": [
    "mergedCumulativeConversions = cumulativeDataA[['date','conversion']].merge(cumulativeDataB[['date','conversion']], left_on='date', right_on='date', how='left', suffixes=['A', 'B'])\n",
    "plt.figure(figsize = (15,7))\n",
    "plt.title('Относительное изменение кумулятивного среднего количества заказов на посетителя группы B к группе A')\n",
    "plt.plot(mergedCumulativeConversions['date'], mergedCumulativeConversions['conversionB']/mergedCumulativeConversions['conversionA']-1, label=\"Относительный прирост среднего количества заказов на посетителя группы B относительно группы A\")\n",
    "plt.xlabel('Дата')\n",
    "plt.legend()\n",
    "\n",
    "\n",
    "plt.axhline(y=0, color='black', linestyle='--')\n",
    "plt.axhline(y=0.1, color='grey', linestyle='--')"
   ]
  },
  {
   "cell_type": "markdown",
   "metadata": {},
   "source": [
    "Показатель среднего количества заказов на посетителя у группы В стабилизировался с 05.08.2019. При этом с 09.08.2019 показатель  группы В стабильно выше 10%."
   ]
  },
  {
   "cell_type": "markdown",
   "metadata": {},
   "source": [
    "### Построим точечный график количества заказов по пользователям. Сделаем выводы и предположения."
   ]
  },
  {
   "cell_type": "code",
   "execution_count": 141,
   "metadata": {},
   "outputs": [
    {
     "data": {
      "image/png": "[encoded data removed]",
      "text/plain": [
       "<Figure size 1080x504 with 1 Axes>"
      ]
     },
     "metadata": {
      "needs_background": "light"
     },
     "output_type": "display_data"
    }
   ],
   "source": [
    "ordersByUsers = (\n",
    "    orders.groupby(['visitorId','group'], as_index=False)\n",
    "    .agg({'transactionId': 'nunique'})\n",
    ")\n",
    "ordersByUsers.columns = ['visitorId','group', 'orders']\n",
    "x_values = pd.Series(range(0,len(ordersByUsers)))\n",
    "\n",
    "plt.figure(figsize=(15, 7))\n",
    "ax = sns.scatterplot(x=x_values, y=\"orders\", hue='group',hue_order=['A', 'B'],\n",
    "                     data=ordersByUsers, alpha=.7)\n",
    "ax.set_title('Количество заказов по пользователям')\n",
    "plt.xlabel('user number')\n",
    "plt.show()"
   ]
  },
  {
   "cell_type": "markdown",
   "metadata": {},
   "source": [
    "По графику видно, что большая часть покупателей заказывали только один раз. Вместе с этим, пользователей, совершивших от 2-х до 5-ти заказов, также не мало. Присутствуют пользователи, совершившие заказы 6-7 раз."
   ]
  },
  {
   "cell_type": "markdown",
   "metadata": {},
   "source": [
    "### Посчитаем 95-й и 99-й перцентили количества заказов на пользователя. Выберем границу для определения аномальных пользователей."
   ]
  },
  {
   "cell_type": "code",
   "execution_count": 142,
   "metadata": {},
   "outputs": [
    {
     "name": "stdout",
     "output_type": "stream",
     "text": [
      "[2. 4.]\n"
     ]
    }
   ],
   "source": [
    "print(np.percentile(ordersByUsers['orders'], [95, 99]))"
   ]
  },
  {
   "cell_type": "markdown",
   "metadata": {},
   "source": [
    "- Не более 5% пользователей оформляли больше 2 заказов.\n",
    "- Не более 1% пользователей заказывали больше 4-х раз.  \n",
    "\n",
    "Стоит выбрать 4 заказа на одного пользователя за нижнюю границу числа заказов. Все что выше - будем считать аномалией."
   ]
  },
  {
   "cell_type": "markdown",
   "metadata": {},
   "source": [
    "### Построим точечный график стоимостей заказов. Сделаем выводы и предположения."
   ]
  },
  {
   "cell_type": "code",
   "execution_count": 143,
   "metadata": {},
   "outputs": [
    {
     "data": {
      "image/png": "[encoded data removed]",
      "text/plain": [
       "<Figure size 1080x504 with 1 Axes>"
      ]
     },
     "metadata": {
      "needs_background": "light"
     },
     "output_type": "display_data"
    }
   ],
   "source": [
    "x_values = pd.Series(range(0, len(orders['revenue'])))\n",
    "plt.figure(figsize=(15, 7))\n",
    "ax = sns.scatterplot(x=x_values, y=\"revenue\", hue='group',hue_order=['A', 'B'],\n",
    "                     data=orders, alpha=.7)\n",
    "ax.set_title('Стоимость заказов')\n",
    "plt.show()"
   ]
  },
  {
   "cell_type": "markdown",
   "metadata": {},
   "source": [
    "По графику видно, большинство заказов не превышает 20 000. Наблюдаются выбросы в 200 000 и даже в 1 200 000, которые относятся к группе В. У группы А значительных выбросов не наблюдается."
   ]
  },
  {
   "cell_type": "markdown",
   "metadata": {},
   "source": [
    "### Посчитаем 95-й и 99-й перцентили стоимости заказов. Выберем границу для определения аномальных заказов"
   ]
  },
  {
   "cell_type": "code",
   "execution_count": 144,
   "metadata": {},
   "outputs": [
    {
     "name": "stdout",
     "output_type": "stream",
     "text": [
      "[28000.  58233.2]\n"
     ]
    }
   ],
   "source": [
    "print(np.percentile(orders['revenue'], [95, 99]))"
   ]
  },
  {
   "cell_type": "markdown",
   "metadata": {},
   "source": [
    "- Не более 5% заказов дороже 28000 руб.\n",
    "- Не более 1% заказов дороже 58233,2 руб. \n",
    "\n",
    "Стоит выбрать стоимость заказа в 28000 руб. за нижнюю границу. Все что выше - будем считать аномалией."
   ]
  },
  {
   "cell_type": "markdown",
   "metadata": {},
   "source": [
    "### Посчитаем статистическую значимость различий в среднем количестве заказов на посетителя между группами по «сырым» данным. Сделаем выводы и предположения."
   ]
  },
  {
   "cell_type": "code",
   "execution_count": 145,
   "metadata": {},
   "outputs": [
    {
     "name": "stdout",
     "output_type": "stream",
     "text": [
      "        date  ordersPerDateA  revenuePerDateA  ordersPerDateB  \\\n",
      "0 2019-08-01              24           148579              21   \n",
      "1 2019-08-02              20            93822              24   \n",
      "2 2019-08-03              24           112473              16   \n",
      "3 2019-08-04              16            70825              17   \n",
      "4 2019-08-05              25           124218              23   \n",
      "\n",
      "   revenuePerDateB  ordersCummulativeA  revenueCummulativeA  \\\n",
      "0           101217                  24               148579   \n",
      "1           165531                  44               242401   \n",
      "2           114248                  68               354874   \n",
      "3           108571                  84               425699   \n",
      "4            92428                 109               549917   \n",
      "\n",
      "   ordersCummulativeB  revenueCummulativeB  visitorsPerDateA  \\\n",
      "0                  21               101217               719   \n",
      "1                  45               266748               619   \n",
      "2                  61               380996               507   \n",
      "3                  78               489567               717   \n",
      "4                 101               581995               756   \n",
      "\n",
      "   visitorsPerDateB  visitorsCummulativeA  visitorsCummulativeB  \n",
      "0               713                   719                   713  \n",
      "1               581                  1338                  1294  \n",
      "2               509                  1845                  1803  \n",
      "3               770                  2562                  2573  \n",
      "4               707                  3318                  3280  \n"
     ]
    }
   ],
   "source": [
    "visitorsADaily = visitors[visitors['group'] == 'A'][['date', 'visitors']]\n",
    "visitorsADaily.columns = ['date', 'visitorsPerDateA']\n",
    "\n",
    "visitorsACummulative = visitorsADaily.apply(\n",
    "    lambda x: visitorsADaily[visitorsADaily['date'] <= x['date']].agg(\n",
    "        {'date': 'max', 'visitorsPerDateA': 'sum'}\n",
    "    ),\n",
    "    axis=1,\n",
    ")\n",
    "visitorsACummulative.columns = ['date', 'visitorsCummulativeA']\n",
    "\n",
    "visitorsBDaily = visitors[visitors['group'] == 'B'][['date', 'visitors']]\n",
    "visitorsBDaily.columns = ['date', 'visitorsPerDateB']\n",
    "\n",
    "visitorsBCummulative = visitorsBDaily.apply(\n",
    "    lambda x: visitorsBDaily[visitorsBDaily['date'] <= x['date']].agg(\n",
    "        {'date': 'max', 'visitorsPerDateB': 'sum'}\n",
    "    ),\n",
    "    axis=1,\n",
    ")\n",
    "visitorsBCummulative.columns = ['date', 'visitorsCummulativeB']\n",
    "\n",
    "ordersADaily = (\n",
    "    orders[orders['group'] == 'A'][['date', 'transactionId', 'visitorId', 'revenue']]\n",
    "    .groupby('date', as_index=False)\n",
    "    .agg({'transactionId': pd.Series.nunique, 'revenue': 'sum'})\n",
    ")\n",
    "ordersADaily.columns = ['date', 'ordersPerDateA', 'revenuePerDateA']\n",
    "\n",
    "ordersACummulative = ordersADaily.apply(\n",
    "    lambda x: ordersADaily[ordersADaily['date'] <= x['date']].agg(\n",
    "        {'date': 'max', 'ordersPerDateA': 'sum', 'revenuePerDateA': 'sum'}\n",
    "    ),\n",
    "    axis=1,\n",
    ").sort_values(by=['date'])\n",
    "ordersACummulative.columns = [\n",
    "    'date',\n",
    "    'ordersCummulativeA',\n",
    "    'revenueCummulativeA',\n",
    "]\n",
    "\n",
    "ordersBDaily = (\n",
    "    orders[orders['group'] == 'B'][['date', 'transactionId', 'visitorId', 'revenue']]\n",
    "    .groupby('date', as_index=False)\n",
    "    .agg({'transactionId': pd.Series.nunique, 'revenue': 'sum'})\n",
    ")\n",
    "ordersBDaily.columns = ['date', 'ordersPerDateB', 'revenuePerDateB']\n",
    "\n",
    "ordersBCummulative = ordersBDaily.apply(\n",
    "    lambda x: ordersBDaily[ordersBDaily['date'] <= x['date']].agg(\n",
    "        {'date': 'max', 'ordersPerDateB': 'sum', 'revenuePerDateB': 'sum'}\n",
    "    ),\n",
    "    axis=1,\n",
    ").sort_values(by=['date'])\n",
    "ordersBCummulative.columns = [\n",
    "    'date',\n",
    "    'ordersCummulativeB',\n",
    "    'revenueCummulativeB',\n",
    "]\n",
    "\n",
    "data = (\n",
    "    ordersADaily.merge(\n",
    "        ordersBDaily, left_on='date', right_on='date', how='left'\n",
    "    )\n",
    "    .merge(ordersACummulative, left_on='date', right_on='date', how='left')\n",
    "    .merge(ordersBCummulative, left_on='date', right_on='date', how='left')\n",
    "    .merge(visitorsADaily, left_on='date', right_on='date', how='left')\n",
    "    .merge(visitorsBDaily, left_on='date', right_on='date', how='left')\n",
    "    .merge(visitorsACummulative, left_on='date', right_on='date', how='left')\n",
    "    .merge(visitorsBCummulative, left_on='date', right_on='date', how='left')\n",
    ")\n",
    "\n",
    "print(data.head(5)) "
   ]
  },
  {
   "cell_type": "code",
   "execution_count": 146,
   "metadata": {},
   "outputs": [],
   "source": [
    "ordersByUsersA = (\n",
    "    orders[orders['group'] == 'A']\n",
    "    .groupby('visitorId', as_index=False)\n",
    "    .agg({'transactionId': pd.Series.nunique})\n",
    ")\n",
    "ordersByUsersA.columns = ['visitorId', 'orders']\n",
    "\n",
    "ordersByUsersB = (\n",
    "    orders[orders['group'] == 'B']\n",
    "    .groupby('visitorId', as_index=False)\n",
    "    .agg({'transactionId': pd.Series.nunique})\n",
    ")\n",
    "ordersByUsersB.columns = ['visitorId', 'orders']\n",
    "\n",
    "sampleA = pd.concat(\n",
    "    [\n",
    "        ordersByUsersA['orders'],\n",
    "        pd.Series(\n",
    "            0,\n",
    "            index=np.arange(\n",
    "                data['visitorsPerDateA'].sum() - len(ordersByUsersA['orders'])\n",
    "            ),\n",
    "            name='orders',\n",
    "        ),\n",
    "    ],\n",
    "    axis=0,\n",
    ")\n",
    "\n",
    "sampleB = pd.concat(\n",
    "    [\n",
    "        ordersByUsersB['orders'],\n",
    "        pd.Series(\n",
    "            0,\n",
    "            index=np.arange(\n",
    "                data['visitorsPerDateB'].sum() - len(ordersByUsersB['orders'])\n",
    "            ),\n",
    "            name='orders',\n",
    "        ),\n",
    "    ],\n",
    "    axis=0,\n",
    ")"
   ]
  },
  {
   "cell_type": "markdown",
   "metadata": {},
   "source": [
    "Посчитаем статистическую значимость различий в среднем числе заказов на пользователя и среднем чеке между группами по «сырым» данным — без удаления аномальных пользователей. Т.к. в в данных есть большие (по сравнению с нормальным распределением) выбросы применим непараметрический критерий Манна-Уитни."
   ]
  },
  {
   "cell_type": "markdown",
   "metadata": {},
   "source": [
    "H_0:  Среднее количество заказов на посетителя группы А =  Среднее количество заказов на посетителя группы В\n",
    "\n",
    "H_1: Среднее количество заказов на посетителя группы А != Среднее количество заказов на посетителя группы В\n",
    "\n",
    "alpha = 0.05"
   ]
  },
  {
   "cell_type": "code",
   "execution_count": 147,
   "metadata": {},
   "outputs": [
    {
     "name": "stdout",
     "output_type": "stream",
     "text": [
      "p-значение: 0.017\n",
      "Отвергаем нулевую гипотезу: \"Cтатистически значимых различий в среднем количестве заказов на посетителя между группами нет\".\n",
      "Относительный прирост среднего количества заказов на посетителя группы B: 0.138\n"
     ]
    }
   ],
   "source": [
    "alpha = 0.05\n",
    "results = stats.mannwhitneyu(sampleA, sampleB)\n",
    "print('p-значение: {:.3f}'.format(results.pvalue))\n",
    "if (results.pvalue < alpha):\n",
    "    print('Отвергаем нулевую гипотезу: \"Cтатистически значимых различий в среднем количестве заказов на посетителя между группами нет\".')\n",
    "else:\n",
    "    print('Не получилось отвергнуть нулевую гипотезу: \"Cтатистически значимых различий в среднем количестве заказов на посетителя между группами нет\".')\n",
    "\n",
    "print(\"Относительный прирост среднего количества заказов на посетителя группы B: {0:.3f}\".format(sampleB.mean()/sampleA.mean()-1))"
   ]
  },
  {
   "cell_type": "markdown",
   "metadata": {},
   "source": [
    "### Посчитаем статистическую значимость различий в среднем чеке заказа между группами по «сырым» данным. Сделаем выводы и предположения."
   ]
  },
  {
   "cell_type": "markdown",
   "metadata": {},
   "source": [
    "H_0:  Средний чек группы А =  Средний чек группы В\n",
    "\n",
    "H_1: Средний чек группы А != Средний чек группы В\n",
    "\n",
    "alpha = 0.05"
   ]
  },
  {
   "cell_type": "code",
   "execution_count": 148,
   "metadata": {},
   "outputs": [
    {
     "name": "stdout",
     "output_type": "stream",
     "text": [
      "p-значение: 0.729\n",
      "Не получилось отвергнуть нулевую гипотезу: \"Cтатистически значимых различий в среднем чеке между группами нет\".\n",
      "Относительный прирост среднего чека группы B: 0.259\n"
     ]
    }
   ],
   "source": [
    "alpha = 0.05\n",
    "results = stats.mannwhitneyu(orders[orders['group']=='A']['revenue'], orders[orders['group']=='B']['revenue'])\n",
    "print('p-значение: {:.3f}'.format(results[1]))\n",
    "if (results[1] < alpha):\n",
    "    print('Отвергаем нулевую гипотезу: \"Cтатистически значимых различий в среднем чеке между группами нет\".')\n",
    "else:\n",
    "    print('Не получилось отвергнуть нулевую гипотезу: \"Cтатистически значимых различий в среднем чеке между группами нет\".')\n",
    "\n",
    "print(\"Относительный прирост среднего чека группы B: {0:.3f}\".format(orders[orders['group']=='B']['revenue'].mean()/orders[orders['group']=='A']['revenue'].mean()-1))\n",
    "\n"
   ]
  },
  {
   "cell_type": "markdown",
   "metadata": {},
   "source": [
    "### Посчитаем статистическую значимость различий в среднем количестве заказов на посетителя между группами по «очищенным» данным. Сделаем выводы и предположения."
   ]
  },
  {
   "cell_type": "code",
   "execution_count": 149,
   "metadata": {},
   "outputs": [
    {
     "name": "stdout",
     "output_type": "stream",
     "text": [
      "1099    148427295\n",
      "928     204675465\n",
      "684     358944393\n",
      "648     382846391\n",
      "1189    393266494\n",
      "Name: visitorId, dtype: int64\n",
      "59\n"
     ]
    }
   ],
   "source": [
    "usersWithManyOrders = pd.concat(\n",
    "    [\n",
    "        ordersByUsersA[ordersByUsersA['orders'] > 4]['visitorId'],\n",
    "        ordersByUsersB[ordersByUsersB['orders'] > 4]['visitorId'],\n",
    "    ],\n",
    "    axis=0,\n",
    ")\n",
    "usersWithExpensiveOrders = orders[orders['revenue'] > 28000]['visitorId']\n",
    "abnormalUsers = (\n",
    "    pd.concat([usersWithManyOrders, usersWithExpensiveOrders], axis=0)\n",
    "    .drop_duplicates()\n",
    "    .sort_values()\n",
    ")\n",
    "print(abnormalUsers.head(5))\n",
    "print(abnormalUsers.shape[0])"
   ]
  },
  {
   "cell_type": "markdown",
   "metadata": {},
   "source": [
    "Всего 59 аномальных пользователей. "
   ]
  },
  {
   "cell_type": "code",
   "execution_count": 150,
   "metadata": {},
   "outputs": [
    {
     "name": "stdout",
     "output_type": "stream",
     "text": [
      "Относительные потери пользователей: 5.72%\n"
     ]
    }
   ],
   "source": [
    "total_users = orders['visitorId'].nunique()\n",
    "\n",
    "# Количество аномальных пользователей\n",
    "abnormal_users = (\n",
    "    pd.concat([usersWithManyOrders, usersWithExpensiveOrders], axis=0)\n",
    "    .drop_duplicates()\n",
    ")\n",
    "\n",
    "# Относительные потери\n",
    "relative_losses = abnormal_users.shape[0] / total_users\n",
    "\n",
    "print(\"Относительные потери пользователей: {:.2%}\".format(relative_losses))"
   ]
  },
  {
   "cell_type": "markdown",
   "metadata": {},
   "source": [
    "Посчитаем статистическую значимость различий в среднем числе заказов на пользователя и среднем чеке между группами по «очищенным» данным — с удалением аномальных пользователей."
   ]
  },
  {
   "cell_type": "markdown",
   "metadata": {},
   "source": [
    "H_0:  Среднее количество заказов на посетителя группы А =  Среднее количество заказов на посетителя группы В\n",
    "\n",
    "H_1: Среднее количество заказов на посетителя группы А != Среднее количество заказов на посетителя группы В\n",
    "\n",
    "alpha = 0.05"
   ]
  },
  {
   "cell_type": "code",
   "execution_count": 151,
   "metadata": {},
   "outputs": [
    {
     "name": "stdout",
     "output_type": "stream",
     "text": [
      "p-значение: 0.018\n",
      "Отвергаем нулевую гипотезу: \"Cтатистически значимых различий в среднем количестве заказов на посетителя между группами нет\".\n",
      "Относительный прирост среднего количества заказов на посетителя группы B: 0.145\n"
     ]
    }
   ],
   "source": [
    "sampleAFiltered = pd.concat(\n",
    "    [\n",
    "        ordersByUsersA[\n",
    "            np.logical_not(ordersByUsersA['visitorId'].isin(abnormalUsers))\n",
    "        ]['orders'],\n",
    "        pd.Series(\n",
    "            0,\n",
    "            index=np.arange(\n",
    "                data['visitorsPerDateA'].sum() - len(ordersByUsersA['orders'])\n",
    "            ),\n",
    "            name='orders',\n",
    "        ),\n",
    "    ],\n",
    "    axis=0,\n",
    ")\n",
    "\n",
    "sampleBFiltered = pd.concat(\n",
    "    [\n",
    "        ordersByUsersB[\n",
    "            np.logical_not(ordersByUsersB['visitorId'].isin(abnormalUsers))\n",
    "        ]['orders'],\n",
    "        pd.Series(\n",
    "            0,\n",
    "            index=np.arange(\n",
    "                data['visitorsPerDateB'].sum() - len(ordersByUsersB['orders'])\n",
    "            ),\n",
    "            name='orders',\n",
    "        ),\n",
    "    ],\n",
    "    axis=0,\n",
    ")\n",
    "\n",
    "results = stats.mannwhitneyu(sampleAFiltered, sampleBFiltered)\n",
    "print('p-значение: {:.3f}'.format(results.pvalue))\n",
    "if (results.pvalue < alpha):\n",
    "    print('Отвергаем нулевую гипотезу: \"Cтатистически значимых различий в среднем количестве заказов на посетителя между группами нет\".')\n",
    "else:\n",
    "    print('Не получилось отвергнуть нулевую гипотезу: \"Cтатистически значимых различий в среднем количестве заказов на посетителя между группами нет\".')\n",
    "\n",
    "print(\"Относительный прирост среднего количества заказов на посетителя группы B: {0:.3f}\".format(sampleBFiltered.mean()/sampleAFiltered.mean()-1))\n"
   ]
  },
  {
   "cell_type": "markdown",
   "metadata": {},
   "source": [
    "### Посчитаем статистическую значимость различий в среднем чеке заказа между группами по «очищенным» данным. Сделаем выводы и предположения."
   ]
  },
  {
   "cell_type": "markdown",
   "metadata": {},
   "source": [
    "H_0:  Средний чек группы А =  Средний чек группы В\n",
    "\n",
    "H_1: Средний чек группы А != Средний чек группы В\n",
    "\n",
    "alpha = 0.05"
   ]
  },
  {
   "cell_type": "code",
   "execution_count": 152,
   "metadata": {},
   "outputs": [
    {
     "name": "stdout",
     "output_type": "stream",
     "text": [
      "p-значение: 0.961\n",
      "Не получилось отвергнуть нулевую гипотезу: \"Cтатистически значимых различий в среднем чеке между группами нет\".\n",
      "Относительный прирост среднего чека группы B: -0.014\n"
     ]
    }
   ],
   "source": [
    "alpha = 0.05\n",
    "results = stats.mannwhitneyu(orders[\n",
    "                np.logical_and(\n",
    "                    orders['group'] == 'A',\n",
    "                    np.logical_not(orders['visitorId'].isin(abnormalUsers)),\n",
    "                )\n",
    "            ]['revenue'],\n",
    "            orders[\n",
    "                np.logical_and(\n",
    "                    orders['group'] == 'B',\n",
    "                    np.logical_not(orders['visitorId'].isin(abnormalUsers)),\n",
    "                )\n",
    "            ]['revenue'],\n",
    "        )[1]\n",
    "print('p-значение: {:.3f}'.format(results))\n",
    "if (results < alpha):\n",
    "    print('Отвергаем нулевую гипотезу: \"Cтатистически значимых различий в среднем чеке между группами нет\".')\n",
    "else:\n",
    "    print('Не получилось отвергнуть нулевую гипотезу: \"Cтатистически значимых различий в среднем чеке между группами нет\".')\n",
    "\n",
    "print(\"Относительный прирост среднего чека группы B: {0:.3f}\".format(orders[\n",
    "            np.logical_and(\n",
    "                orders['group'] == 'B',\n",
    "                np.logical_not(orders['visitorId'].isin(abnormalUsers)),\n",
    "            )\n",
    "        ]['revenue'].mean()\n",
    "        / orders[\n",
    "            np.logical_and(\n",
    "                orders['group'] == 'A',\n",
    "                np.logical_not(orders['visitorId'].isin(abnormalUsers)),\n",
    "            )\n",
    "        ]['revenue'].mean()\n",
    "        - 1\n",
    "    ))\n",
    "\n"
   ]
  },
  {
   "cell_type": "markdown",
   "metadata": {},
   "source": [
    "###  Сделаем выводы по результатам теста \n",
    "\n",
    "Анализируя результаты A/B-тестирования мы пришли к следующим выводам:\n",
    "\n",
    "- Есть статистически значимое различие по среднему количеству заказов на посетителя между группами как по сырым данным, так и после фильтрации аномалий.\n",
    "- Нет статистически значимого различия по среднему чеку между группами как по сырым данным, так и по очищенным.\n",
    "- График различия среднего количества заказов на посетителя между группами сообщает, что результаты группы B лучше группы A: имеют тенденцию к росту, либо зафиксировались около среднего значения.\n",
    "- График различия среднего чека колеблется, хотя к концу периода наблюдения тоже показывает, что результаты группы B становятся лучше группы A. Но глядя на данные очищенные от аномальных пользователей мы видим, что средний чек практически не изменился и даже стал немного меньше по отношению к группе A.  \n",
    "\n",
    "**Исходя из обнаруженных фактов, следует остановить тест, зафиксировать победу группы В и перейти к проверке следующей гипотезы.**"
   ]
  }
 ],
 "metadata": {
  "ExecuteTimeLog": [
   {
    "duration": 449,
    "start_time": "2023-09-04T18:52:13.136Z"
   },
   {
    "duration": 14,
    "start_time": "2023-09-04T18:52:18.343Z"
   },
   {
    "duration": 26,
    "start_time": "2023-09-04T18:52:41.769Z"
   },
   {
    "duration": 8,
    "start_time": "2023-09-04T18:52:44.179Z"
   },
   {
    "duration": 61,
    "start_time": "2023-09-04T18:58:05.487Z"
   },
   {
    "duration": 7,
    "start_time": "2023-09-04T18:58:10.438Z"
   },
   {
    "duration": 9,
    "start_time": "2023-09-04T18:59:36.115Z"
   },
   {
    "duration": 3,
    "start_time": "2023-09-04T19:01:53.232Z"
   },
   {
    "duration": 9,
    "start_time": "2023-09-04T19:02:08.446Z"
   },
   {
    "duration": 90,
    "start_time": "2023-09-04T19:02:21.970Z"
   },
   {
    "duration": 13,
    "start_time": "2023-09-04T19:03:30.463Z"
   },
   {
    "duration": 11,
    "start_time": "2023-09-04T19:04:01.469Z"
   },
   {
    "duration": 11,
    "start_time": "2023-09-04T19:04:57.685Z"
   },
   {
    "duration": 11,
    "start_time": "2023-09-04T19:05:14.118Z"
   },
   {
    "duration": 11,
    "start_time": "2023-09-04T19:05:26.907Z"
   },
   {
    "duration": 138,
    "start_time": "2023-09-04T19:13:25.031Z"
   },
   {
    "duration": 17,
    "start_time": "2023-09-04T19:13:37.497Z"
   },
   {
    "duration": 10,
    "start_time": "2023-09-04T19:13:42.349Z"
   },
   {
    "duration": 17,
    "start_time": "2023-09-04T19:14:04.686Z"
   },
   {
    "duration": 5,
    "start_time": "2023-09-04T19:17:38.326Z"
   },
   {
    "duration": 7,
    "start_time": "2023-09-04T19:17:59.391Z"
   },
   {
    "duration": 14,
    "start_time": "2023-09-04T19:18:06.287Z"
   },
   {
    "duration": 11,
    "start_time": "2023-09-04T19:18:24.162Z"
   },
   {
    "duration": 12,
    "start_time": "2023-09-04T19:18:42.673Z"
   },
   {
    "duration": 17,
    "start_time": "2023-09-04T19:18:59.446Z"
   },
   {
    "duration": 17,
    "start_time": "2023-09-04T19:19:10.202Z"
   },
   {
    "duration": 484,
    "start_time": "2023-09-04T19:22:16.032Z"
   },
   {
    "duration": 4,
    "start_time": "2023-09-04T19:22:16.519Z"
   },
   {
    "duration": 8,
    "start_time": "2023-09-04T19:22:16.702Z"
   },
   {
    "duration": 12,
    "start_time": "2023-09-04T19:22:17.481Z"
   },
   {
    "duration": 13,
    "start_time": "2023-09-04T19:22:17.812Z"
   },
   {
    "duration": 62,
    "start_time": "2023-09-04T19:22:18.469Z"
   },
   {
    "duration": 15,
    "start_time": "2023-09-04T19:22:19.131Z"
   },
   {
    "duration": 17,
    "start_time": "2023-09-04T19:22:19.477Z"
   },
   {
    "duration": 7,
    "start_time": "2023-09-04T19:22:19.881Z"
   },
   {
    "duration": 18,
    "start_time": "2023-09-04T19:22:20.249Z"
   },
   {
    "duration": 26,
    "start_time": "2023-09-04T19:48:39.720Z"
   },
   {
    "duration": 3,
    "start_time": "2023-09-04T19:48:39.748Z"
   },
   {
    "duration": 35,
    "start_time": "2023-09-04T19:48:39.753Z"
   },
   {
    "duration": 18,
    "start_time": "2023-09-04T19:48:39.790Z"
   },
   {
    "duration": 25,
    "start_time": "2023-09-04T19:48:39.810Z"
   },
   {
    "duration": 54,
    "start_time": "2023-09-04T19:48:39.837Z"
   },
   {
    "duration": 11,
    "start_time": "2023-09-04T19:48:39.892Z"
   },
   {
    "duration": 24,
    "start_time": "2023-09-04T19:48:39.904Z"
   },
   {
    "duration": 16,
    "start_time": "2023-09-04T19:48:39.930Z"
   },
   {
    "duration": 20,
    "start_time": "2023-09-04T19:48:39.947Z"
   },
   {
    "duration": 38,
    "start_time": "2023-09-04T19:49:41.419Z"
   },
   {
    "duration": 532,
    "start_time": "2023-09-04T19:51:08.874Z"
   },
   {
    "duration": 11,
    "start_time": "2023-09-04T19:55:54.873Z"
   },
   {
    "duration": 28,
    "start_time": "2023-09-04T19:56:04.535Z"
   },
   {
    "duration": 3,
    "start_time": "2023-09-04T19:56:04.565Z"
   },
   {
    "duration": 15,
    "start_time": "2023-09-04T19:56:04.570Z"
   },
   {
    "duration": 0,
    "start_time": "2023-09-04T19:56:04.587Z"
   },
   {
    "duration": 0,
    "start_time": "2023-09-04T19:56:04.589Z"
   },
   {
    "duration": 0,
    "start_time": "2023-09-04T19:56:04.590Z"
   },
   {
    "duration": 0,
    "start_time": "2023-09-04T19:56:04.592Z"
   },
   {
    "duration": 0,
    "start_time": "2023-09-04T19:56:04.593Z"
   },
   {
    "duration": 0,
    "start_time": "2023-09-04T19:56:04.595Z"
   },
   {
    "duration": 0,
    "start_time": "2023-09-04T19:56:04.596Z"
   },
   {
    "duration": 0,
    "start_time": "2023-09-04T19:56:04.597Z"
   },
   {
    "duration": 7,
    "start_time": "2023-09-04T19:56:27.119Z"
   },
   {
    "duration": 11,
    "start_time": "2023-09-04T19:56:27.516Z"
   },
   {
    "duration": 11,
    "start_time": "2023-09-04T19:56:27.896Z"
   },
   {
    "duration": 74,
    "start_time": "2023-09-04T19:56:28.541Z"
   },
   {
    "duration": 11,
    "start_time": "2023-09-04T19:56:29.427Z"
   },
   {
    "duration": 17,
    "start_time": "2023-09-04T19:56:30.579Z"
   },
   {
    "duration": 6,
    "start_time": "2023-09-04T19:56:31.014Z"
   },
   {
    "duration": 19,
    "start_time": "2023-09-04T19:56:31.427Z"
   },
   {
    "duration": 467,
    "start_time": "2023-09-04T19:56:31.977Z"
   },
   {
    "duration": 256,
    "start_time": "2023-09-04T20:00:18.183Z"
   },
   {
    "duration": 169,
    "start_time": "2023-09-04T20:00:41.235Z"
   },
   {
    "duration": 338,
    "start_time": "2023-09-04T20:05:12.790Z"
   },
   {
    "duration": 49,
    "start_time": "2023-09-05T10:56:33.648Z"
   },
   {
    "duration": 912,
    "start_time": "2023-09-05T10:56:44.515Z"
   },
   {
    "duration": 3,
    "start_time": "2023-09-05T10:56:45.429Z"
   },
   {
    "duration": 16,
    "start_time": "2023-09-05T10:56:45.433Z"
   },
   {
    "duration": 12,
    "start_time": "2023-09-05T10:56:45.451Z"
   },
   {
    "duration": 20,
    "start_time": "2023-09-05T10:56:45.464Z"
   },
   {
    "duration": 172,
    "start_time": "2023-09-05T10:56:45.486Z"
   },
   {
    "duration": 11,
    "start_time": "2023-09-05T10:56:45.659Z"
   },
   {
    "duration": 27,
    "start_time": "2023-09-05T10:56:45.671Z"
   },
   {
    "duration": 9,
    "start_time": "2023-09-05T10:56:45.700Z"
   },
   {
    "duration": 23,
    "start_time": "2023-09-05T10:56:45.712Z"
   },
   {
    "duration": 515,
    "start_time": "2023-09-05T10:56:45.736Z"
   },
   {
    "duration": 167,
    "start_time": "2023-09-05T10:56:46.253Z"
   },
   {
    "duration": 373,
    "start_time": "2023-09-05T10:56:46.422Z"
   },
   {
    "duration": 38,
    "start_time": "2023-09-05T10:56:46.797Z"
   },
   {
    "duration": 133,
    "start_time": "2023-09-05T10:57:23.697Z"
   },
   {
    "duration": 168,
    "start_time": "2023-09-05T10:57:36.389Z"
   },
   {
    "duration": 311,
    "start_time": "2023-09-05T10:59:33.931Z"
   },
   {
    "duration": 263,
    "start_time": "2023-09-05T10:59:50.790Z"
   },
   {
    "duration": 8,
    "start_time": "2023-09-05T11:06:13.694Z"
   },
   {
    "duration": 168,
    "start_time": "2023-09-05T11:12:08.839Z"
   },
   {
    "duration": 303,
    "start_time": "2023-09-05T11:12:42.679Z"
   },
   {
    "duration": 350,
    "start_time": "2023-09-05T11:12:57.909Z"
   },
   {
    "duration": 199,
    "start_time": "2023-09-05T11:13:26.901Z"
   },
   {
    "duration": 298,
    "start_time": "2023-09-05T11:13:41.426Z"
   },
   {
    "duration": 175,
    "start_time": "2023-09-05T11:13:49.021Z"
   },
   {
    "duration": 599,
    "start_time": "2023-09-05T11:13:54.639Z"
   },
   {
    "duration": 25,
    "start_time": "2023-09-05T11:14:41.414Z"
   },
   {
    "duration": 3,
    "start_time": "2023-09-05T11:14:41.441Z"
   },
   {
    "duration": 13,
    "start_time": "2023-09-05T11:14:41.445Z"
   },
   {
    "duration": 13,
    "start_time": "2023-09-05T11:14:41.461Z"
   },
   {
    "duration": 13,
    "start_time": "2023-09-05T11:14:41.476Z"
   },
   {
    "duration": 52,
    "start_time": "2023-09-05T11:14:41.490Z"
   },
   {
    "duration": 11,
    "start_time": "2023-09-05T11:14:41.544Z"
   },
   {
    "duration": 17,
    "start_time": "2023-09-05T11:14:41.557Z"
   },
   {
    "duration": 6,
    "start_time": "2023-09-05T11:14:41.576Z"
   },
   {
    "duration": 19,
    "start_time": "2023-09-05T11:14:41.583Z"
   },
   {
    "duration": 474,
    "start_time": "2023-09-05T11:14:41.603Z"
   },
   {
    "duration": 196,
    "start_time": "2023-09-05T11:14:42.078Z"
   },
   {
    "duration": 285,
    "start_time": "2023-09-05T11:14:42.275Z"
   },
   {
    "duration": 249,
    "start_time": "2023-09-05T11:14:42.563Z"
   },
   {
    "duration": 336,
    "start_time": "2023-09-05T11:14:42.814Z"
   },
   {
    "duration": 100,
    "start_time": "2023-09-05T11:14:43.151Z"
   },
   {
    "duration": 13,
    "start_time": "2023-09-05T11:15:16.339Z"
   },
   {
    "duration": 122,
    "start_time": "2023-09-05T11:16:43.351Z"
   },
   {
    "duration": 146,
    "start_time": "2023-09-05T11:17:17.083Z"
   },
   {
    "duration": 20,
    "start_time": "2023-09-05T11:18:15.965Z"
   },
   {
    "duration": 585,
    "start_time": "2023-09-05T11:18:59.607Z"
   },
   {
    "duration": 26,
    "start_time": "2023-09-05T11:19:04.386Z"
   },
   {
    "duration": 3,
    "start_time": "2023-09-05T11:19:04.414Z"
   },
   {
    "duration": 28,
    "start_time": "2023-09-05T11:19:04.418Z"
   },
   {
    "duration": 11,
    "start_time": "2023-09-05T11:19:04.448Z"
   },
   {
    "duration": 14,
    "start_time": "2023-09-05T11:19:04.460Z"
   },
   {
    "duration": 56,
    "start_time": "2023-09-05T11:19:04.476Z"
   },
   {
    "duration": 12,
    "start_time": "2023-09-05T11:19:04.535Z"
   },
   {
    "duration": 32,
    "start_time": "2023-09-05T11:19:04.549Z"
   },
   {
    "duration": 8,
    "start_time": "2023-09-05T11:19:04.583Z"
   },
   {
    "duration": 52,
    "start_time": "2023-09-05T11:19:04.594Z"
   },
   {
    "duration": 482,
    "start_time": "2023-09-05T11:19:04.648Z"
   },
   {
    "duration": 206,
    "start_time": "2023-09-05T11:19:05.132Z"
   },
   {
    "duration": 297,
    "start_time": "2023-09-05T11:19:05.340Z"
   },
   {
    "duration": 218,
    "start_time": "2023-09-05T11:19:05.639Z"
   },
   {
    "duration": 305,
    "start_time": "2023-09-05T11:19:05.858Z"
   },
   {
    "duration": 237,
    "start_time": "2023-09-05T11:19:06.164Z"
   },
   {
    "duration": 4,
    "start_time": "2023-09-05T11:21:10.257Z"
   },
   {
    "duration": 2060,
    "start_time": "2023-09-05T11:23:38.956Z"
   },
   {
    "duration": 126,
    "start_time": "2023-09-05T11:24:10.340Z"
   },
   {
    "duration": 228,
    "start_time": "2023-09-05T11:24:24.130Z"
   },
   {
    "duration": 16,
    "start_time": "2023-09-05T11:25:38.948Z"
   },
   {
    "duration": 223,
    "start_time": "2023-09-05T11:26:10.246Z"
   },
   {
    "duration": 1872,
    "start_time": "2023-09-05T11:27:22.971Z"
   },
   {
    "duration": 4,
    "start_time": "2023-09-05T11:27:30.252Z"
   },
   {
    "duration": 114,
    "start_time": "2023-09-05T12:14:36.149Z"
   },
   {
    "duration": 14,
    "start_time": "2023-09-05T12:15:44.805Z"
   },
   {
    "duration": 210,
    "start_time": "2023-09-05T12:17:44.301Z"
   },
   {
    "duration": 152,
    "start_time": "2023-09-05T12:20:28.925Z"
   },
   {
    "duration": 26,
    "start_time": "2023-09-05T12:21:21.800Z"
   },
   {
    "duration": 3,
    "start_time": "2023-09-05T12:21:21.828Z"
   },
   {
    "duration": 15,
    "start_time": "2023-09-05T12:21:21.832Z"
   },
   {
    "duration": 19,
    "start_time": "2023-09-05T12:21:21.848Z"
   },
   {
    "duration": 63,
    "start_time": "2023-09-05T12:21:21.868Z"
   },
   {
    "duration": 74,
    "start_time": "2023-09-05T12:21:21.933Z"
   },
   {
    "duration": 10,
    "start_time": "2023-09-05T12:21:22.009Z"
   },
   {
    "duration": 28,
    "start_time": "2023-09-05T12:21:22.021Z"
   },
   {
    "duration": 7,
    "start_time": "2023-09-05T12:21:22.051Z"
   },
   {
    "duration": 24,
    "start_time": "2023-09-05T12:21:22.061Z"
   },
   {
    "duration": 502,
    "start_time": "2023-09-05T12:21:22.087Z"
   },
   {
    "duration": 224,
    "start_time": "2023-09-05T12:21:22.591Z"
   },
   {
    "duration": 332,
    "start_time": "2023-09-05T12:21:22.817Z"
   },
   {
    "duration": 223,
    "start_time": "2023-09-05T12:21:23.151Z"
   },
   {
    "duration": 283,
    "start_time": "2023-09-05T12:21:23.376Z"
   },
   {
    "duration": 228,
    "start_time": "2023-09-05T12:21:23.661Z"
   },
   {
    "duration": 4,
    "start_time": "2023-09-05T12:21:23.890Z"
   },
   {
    "duration": 254,
    "start_time": "2023-09-05T12:21:23.896Z"
   },
   {
    "duration": 5,
    "start_time": "2023-09-05T12:21:24.152Z"
   },
   {
    "duration": 18,
    "start_time": "2023-09-05T12:21:24.159Z"
   },
   {
    "duration": 229,
    "start_time": "2023-09-05T12:21:24.179Z"
   },
   {
    "duration": 203,
    "start_time": "2023-09-05T12:21:24.410Z"
   },
   {
    "duration": 150,
    "start_time": "2023-09-05T12:24:40.604Z"
   },
   {
    "duration": 10,
    "start_time": "2023-09-05T12:26:34.921Z"
   },
   {
    "duration": 15,
    "start_time": "2023-09-05T12:28:36.090Z"
   },
   {
    "duration": 15,
    "start_time": "2023-09-05T12:29:03.911Z"
   },
   {
    "duration": 14,
    "start_time": "2023-09-05T12:29:22.163Z"
   },
   {
    "duration": 13,
    "start_time": "2023-09-05T12:30:14.850Z"
   },
   {
    "duration": 11,
    "start_time": "2023-09-05T12:30:51.323Z"
   },
   {
    "duration": 2167,
    "start_time": "2023-09-05T12:33:15.796Z"
   },
   {
    "duration": 9,
    "start_time": "2023-09-05T12:33:47.514Z"
   },
   {
    "duration": 28,
    "start_time": "2023-09-05T12:34:48.684Z"
   },
   {
    "duration": 13,
    "start_time": "2023-09-05T12:35:43.146Z"
   },
   {
    "duration": 1452,
    "start_time": "2023-09-05T17:56:35.755Z"
   },
   {
    "duration": 71,
    "start_time": "2023-09-05T17:56:37.210Z"
   },
   {
    "duration": 13,
    "start_time": "2023-09-05T17:56:38.010Z"
   },
   {
    "duration": 46,
    "start_time": "2023-09-06T09:35:57.675Z"
   },
   {
    "duration": 1345,
    "start_time": "2023-09-06T09:36:04.420Z"
   },
   {
    "duration": 79,
    "start_time": "2023-09-06T09:36:05.767Z"
   },
   {
    "duration": 12,
    "start_time": "2023-09-06T09:36:05.848Z"
   },
   {
    "duration": 17,
    "start_time": "2023-09-06T09:36:05.863Z"
   },
   {
    "duration": 20,
    "start_time": "2023-09-06T09:36:05.882Z"
   },
   {
    "duration": 164,
    "start_time": "2023-09-06T09:36:05.903Z"
   },
   {
    "duration": 11,
    "start_time": "2023-09-06T09:36:06.069Z"
   },
   {
    "duration": 66,
    "start_time": "2023-09-06T09:36:06.081Z"
   },
   {
    "duration": 29,
    "start_time": "2023-09-06T09:36:06.149Z"
   },
   {
    "duration": 31,
    "start_time": "2023-09-06T09:36:06.181Z"
   },
   {
    "duration": 558,
    "start_time": "2023-09-06T09:36:06.214Z"
   },
   {
    "duration": 207,
    "start_time": "2023-09-06T09:36:06.773Z"
   },
   {
    "duration": 346,
    "start_time": "2023-09-06T09:36:06.982Z"
   },
   {
    "duration": 218,
    "start_time": "2023-09-06T09:36:07.329Z"
   },
   {
    "duration": 333,
    "start_time": "2023-09-06T09:36:07.548Z"
   },
   {
    "duration": 75,
    "start_time": "2023-09-06T09:36:07.883Z"
   },
   {
    "duration": 0,
    "start_time": "2023-09-06T09:36:07.959Z"
   },
   {
    "duration": 0,
    "start_time": "2023-09-06T09:36:07.960Z"
   },
   {
    "duration": 0,
    "start_time": "2023-09-06T09:36:07.961Z"
   },
   {
    "duration": 0,
    "start_time": "2023-09-06T09:36:07.962Z"
   },
   {
    "duration": 0,
    "start_time": "2023-09-06T09:36:07.963Z"
   },
   {
    "duration": 0,
    "start_time": "2023-09-06T09:36:07.964Z"
   },
   {
    "duration": 0,
    "start_time": "2023-09-06T09:36:07.965Z"
   },
   {
    "duration": 0,
    "start_time": "2023-09-06T09:36:07.966Z"
   },
   {
    "duration": 0,
    "start_time": "2023-09-06T09:36:07.967Z"
   },
   {
    "duration": 0,
    "start_time": "2023-09-06T09:36:07.968Z"
   },
   {
    "duration": 614,
    "start_time": "2023-09-06T09:36:48.847Z"
   },
   {
    "duration": 487,
    "start_time": "2023-09-06T09:37:00.646Z"
   },
   {
    "duration": 93,
    "start_time": "2023-09-06T09:44:30.200Z"
   },
   {
    "duration": 331,
    "start_time": "2023-09-06T09:44:49.212Z"
   },
   {
    "duration": 221,
    "start_time": "2023-09-06T09:53:47.786Z"
   },
   {
    "duration": 221,
    "start_time": "2023-09-06T09:53:53.602Z"
   },
   {
    "duration": 331,
    "start_time": "2023-09-06T10:01:59.577Z"
   },
   {
    "duration": 310,
    "start_time": "2023-09-06T10:03:19.784Z"
   },
   {
    "duration": 4,
    "start_time": "2023-09-06T10:06:44.952Z"
   },
   {
    "duration": 33,
    "start_time": "2023-09-06T10:06:44.958Z"
   },
   {
    "duration": 9,
    "start_time": "2023-09-06T10:06:44.993Z"
   },
   {
    "duration": 12,
    "start_time": "2023-09-06T10:06:45.004Z"
   },
   {
    "duration": 60,
    "start_time": "2023-09-06T10:06:45.019Z"
   },
   {
    "duration": 93,
    "start_time": "2023-09-06T10:06:45.081Z"
   },
   {
    "duration": 15,
    "start_time": "2023-09-06T10:06:45.176Z"
   },
   {
    "duration": 50,
    "start_time": "2023-09-06T10:06:45.193Z"
   },
   {
    "duration": 9,
    "start_time": "2023-09-06T10:06:45.245Z"
   },
   {
    "duration": 18,
    "start_time": "2023-09-06T10:06:45.256Z"
   },
   {
    "duration": 499,
    "start_time": "2023-09-06T10:06:45.277Z"
   },
   {
    "duration": 216,
    "start_time": "2023-09-06T10:06:45.778Z"
   },
   {
    "duration": 342,
    "start_time": "2023-09-06T10:06:45.996Z"
   },
   {
    "duration": 240,
    "start_time": "2023-09-06T10:06:46.340Z"
   },
   {
    "duration": 323,
    "start_time": "2023-09-06T10:06:46.581Z"
   },
   {
    "duration": 29,
    "start_time": "2023-09-06T10:06:46.906Z"
   },
   {
    "duration": 0,
    "start_time": "2023-09-06T10:06:46.936Z"
   },
   {
    "duration": 0,
    "start_time": "2023-09-06T10:06:46.938Z"
   },
   {
    "duration": 0,
    "start_time": "2023-09-06T10:06:46.939Z"
   },
   {
    "duration": 0,
    "start_time": "2023-09-06T10:06:46.941Z"
   },
   {
    "duration": 0,
    "start_time": "2023-09-06T10:06:46.942Z"
   },
   {
    "duration": 0,
    "start_time": "2023-09-06T10:06:46.943Z"
   },
   {
    "duration": 0,
    "start_time": "2023-09-06T10:06:46.944Z"
   },
   {
    "duration": 0,
    "start_time": "2023-09-06T10:06:46.946Z"
   },
   {
    "duration": 0,
    "start_time": "2023-09-06T10:06:46.947Z"
   },
   {
    "duration": 0,
    "start_time": "2023-09-06T10:06:46.948Z"
   },
   {
    "duration": 320,
    "start_time": "2023-09-06T10:07:33.236Z"
   },
   {
    "duration": 276,
    "start_time": "2023-09-06T10:10:01.957Z"
   },
   {
    "duration": 4,
    "start_time": "2023-09-06T10:14:11.367Z"
   },
   {
    "duration": 239,
    "start_time": "2023-09-06T10:14:12.449Z"
   },
   {
    "duration": 226,
    "start_time": "2023-09-06T10:16:52.913Z"
   },
   {
    "duration": 4,
    "start_time": "2023-09-06T10:20:03.406Z"
   },
   {
    "duration": 206,
    "start_time": "2023-09-06T10:22:56.395Z"
   },
   {
    "duration": 199,
    "start_time": "2023-09-06T10:23:04.625Z"
   },
   {
    "duration": 10,
    "start_time": "2023-09-06T10:23:06.889Z"
   },
   {
    "duration": 8,
    "start_time": "2023-09-06T10:23:07.880Z"
   },
   {
    "duration": 28,
    "start_time": "2023-09-06T10:23:08.369Z"
   },
   {
    "duration": 15,
    "start_time": "2023-09-06T10:23:09.032Z"
   },
   {
    "duration": 3,
    "start_time": "2023-09-06T11:08:32.238Z"
   },
   {
    "duration": 27,
    "start_time": "2023-09-06T11:08:32.265Z"
   },
   {
    "duration": 7,
    "start_time": "2023-09-06T11:08:32.294Z"
   },
   {
    "duration": 21,
    "start_time": "2023-09-06T11:08:32.303Z"
   },
   {
    "duration": 28,
    "start_time": "2023-09-06T11:08:32.325Z"
   },
   {
    "duration": 70,
    "start_time": "2023-09-06T11:08:32.355Z"
   },
   {
    "duration": 11,
    "start_time": "2023-09-06T11:08:32.427Z"
   },
   {
    "duration": 31,
    "start_time": "2023-09-06T11:08:32.440Z"
   },
   {
    "duration": 26,
    "start_time": "2023-09-06T11:08:32.473Z"
   },
   {
    "duration": 39,
    "start_time": "2023-09-06T11:08:32.501Z"
   },
   {
    "duration": 512,
    "start_time": "2023-09-06T11:08:32.542Z"
   },
   {
    "duration": 213,
    "start_time": "2023-09-06T11:08:33.056Z"
   },
   {
    "duration": 289,
    "start_time": "2023-09-06T11:08:33.271Z"
   },
   {
    "duration": 233,
    "start_time": "2023-09-06T11:08:33.562Z"
   },
   {
    "duration": 355,
    "start_time": "2023-09-06T11:08:33.797Z"
   },
   {
    "duration": 242,
    "start_time": "2023-09-06T11:08:34.153Z"
   },
   {
    "duration": 5,
    "start_time": "2023-09-06T11:08:34.396Z"
   },
   {
    "duration": 284,
    "start_time": "2023-09-06T11:08:34.403Z"
   },
   {
    "duration": 5,
    "start_time": "2023-09-06T11:08:34.689Z"
   },
   {
    "duration": 233,
    "start_time": "2023-09-06T11:08:34.697Z"
   },
   {
    "duration": 170,
    "start_time": "2023-09-06T11:08:34.934Z"
   },
   {
    "duration": 10,
    "start_time": "2023-09-06T11:08:35.106Z"
   },
   {
    "duration": 22,
    "start_time": "2023-09-06T11:08:35.117Z"
   },
   {
    "duration": 59,
    "start_time": "2023-09-06T11:08:35.141Z"
   },
   {
    "duration": 12,
    "start_time": "2023-09-06T11:08:35.202Z"
   },
   {
    "duration": 1445,
    "start_time": "2023-09-08T20:57:17.733Z"
   },
   {
    "duration": 71,
    "start_time": "2023-09-08T20:57:19.180Z"
   },
   {
    "duration": 12,
    "start_time": "2023-09-08T20:57:19.253Z"
   },
   {
    "duration": 13,
    "start_time": "2023-09-08T20:57:19.267Z"
   },
   {
    "duration": 12,
    "start_time": "2023-09-08T20:57:19.282Z"
   },
   {
    "duration": 125,
    "start_time": "2023-09-08T20:57:19.297Z"
   },
   {
    "duration": 11,
    "start_time": "2023-09-08T20:57:19.423Z"
   },
   {
    "duration": 20,
    "start_time": "2023-09-08T20:57:19.436Z"
   },
   {
    "duration": 14,
    "start_time": "2023-09-08T20:57:19.457Z"
   },
   {
    "duration": 35,
    "start_time": "2023-09-08T20:57:19.473Z"
   },
   {
    "duration": 279,
    "start_time": "2023-09-08T20:57:19.510Z"
   },
   {
    "duration": 307,
    "start_time": "2023-09-08T20:57:19.791Z"
   },
   {
    "duration": 224,
    "start_time": "2023-09-08T20:57:20.100Z"
   },
   {
    "duration": 382,
    "start_time": "2023-09-08T20:57:20.326Z"
   },
   {
    "duration": 241,
    "start_time": "2023-09-08T20:57:20.710Z"
   },
   {
    "duration": 334,
    "start_time": "2023-09-08T20:57:20.953Z"
   },
   {
    "duration": 248,
    "start_time": "2023-09-08T20:57:21.289Z"
   },
   {
    "duration": 8,
    "start_time": "2023-09-08T20:57:21.539Z"
   },
   {
    "duration": 251,
    "start_time": "2023-09-08T20:57:21.549Z"
   },
   {
    "duration": 4,
    "start_time": "2023-09-08T20:57:21.803Z"
   },
   {
    "duration": 307,
    "start_time": "2023-09-08T20:57:21.809Z"
   },
   {
    "duration": 130,
    "start_time": "2023-09-08T20:57:22.117Z"
   },
   {
    "duration": 25,
    "start_time": "2023-09-08T20:57:22.249Z"
   },
   {
    "duration": 10,
    "start_time": "2023-09-08T20:57:22.275Z"
   },
   {
    "duration": 13,
    "start_time": "2023-09-08T20:57:22.287Z"
   },
   {
    "duration": 59,
    "start_time": "2023-09-08T20:57:22.302Z"
   },
   {
    "duration": 14,
    "start_time": "2023-09-08T20:57:22.362Z"
   },
   {
    "duration": 6,
    "start_time": "2023-09-08T21:01:15.077Z"
   },
   {
    "duration": 5,
    "start_time": "2023-09-08T21:01:39.004Z"
   },
   {
    "duration": 9,
    "start_time": "2023-09-08T21:02:13.123Z"
   },
   {
    "duration": 7,
    "start_time": "2023-09-08T21:02:31.220Z"
   },
   {
    "duration": 8,
    "start_time": "2023-09-08T21:02:44.858Z"
   },
   {
    "duration": 5,
    "start_time": "2023-09-08T21:02:55.389Z"
   },
   {
    "duration": 7,
    "start_time": "2023-09-08T21:02:59.398Z"
   },
   {
    "duration": 6,
    "start_time": "2023-09-08T21:03:09.141Z"
   },
   {
    "duration": 6,
    "start_time": "2023-09-08T21:03:15.847Z"
   },
   {
    "duration": 6,
    "start_time": "2023-09-08T21:03:17.127Z"
   },
   {
    "duration": 6,
    "start_time": "2023-09-08T21:03:25.835Z"
   },
   {
    "duration": 5,
    "start_time": "2023-09-08T21:03:29.034Z"
   },
   {
    "duration": 98,
    "start_time": "2023-09-08T21:09:38.280Z"
   },
   {
    "duration": 102,
    "start_time": "2023-09-08T21:09:48.950Z"
   },
   {
    "duration": 11,
    "start_time": "2023-09-08T21:10:04.298Z"
   },
   {
    "duration": 13,
    "start_time": "2023-09-08T21:12:08.472Z"
   },
   {
    "duration": 13,
    "start_time": "2023-09-08T21:12:30.327Z"
   },
   {
    "duration": 9,
    "start_time": "2023-09-08T21:13:25.847Z"
   },
   {
    "duration": 8,
    "start_time": "2023-09-08T21:14:51.187Z"
   },
   {
    "duration": 11,
    "start_time": "2023-09-08T21:15:00.956Z"
   },
   {
    "duration": 13,
    "start_time": "2023-09-08T21:15:09.896Z"
   },
   {
    "duration": 13,
    "start_time": "2023-09-08T21:16:00.207Z"
   },
   {
    "duration": 10,
    "start_time": "2023-09-08T21:16:35.363Z"
   },
   {
    "duration": 4,
    "start_time": "2023-09-08T21:17:49.544Z"
   },
   {
    "duration": 9,
    "start_time": "2023-09-08T21:18:02.846Z"
   },
   {
    "duration": 9,
    "start_time": "2023-09-08T21:18:19.870Z"
   },
   {
    "duration": 2,
    "start_time": "2023-09-08T21:18:58.680Z"
   },
   {
    "duration": 31,
    "start_time": "2023-09-08T21:18:58.686Z"
   },
   {
    "duration": 7,
    "start_time": "2023-09-08T21:18:58.719Z"
   },
   {
    "duration": 10,
    "start_time": "2023-09-08T21:18:58.727Z"
   },
   {
    "duration": 11,
    "start_time": "2023-09-08T21:18:58.739Z"
   },
   {
    "duration": 51,
    "start_time": "2023-09-08T21:18:58.751Z"
   },
   {
    "duration": 9,
    "start_time": "2023-09-08T21:18:58.803Z"
   },
   {
    "duration": 14,
    "start_time": "2023-09-08T21:18:58.814Z"
   },
   {
    "duration": 7,
    "start_time": "2023-09-08T21:18:58.829Z"
   },
   {
    "duration": 23,
    "start_time": "2023-09-08T21:18:58.838Z"
   },
   {
    "duration": 5,
    "start_time": "2023-09-08T21:18:58.863Z"
   },
   {
    "duration": 13,
    "start_time": "2023-09-08T21:18:58.869Z"
   },
   {
    "duration": 6,
    "start_time": "2023-09-08T21:18:58.883Z"
   },
   {
    "duration": 8,
    "start_time": "2023-09-08T21:18:58.891Z"
   },
   {
    "duration": 14,
    "start_time": "2023-09-08T21:18:58.900Z"
   },
   {
    "duration": 278,
    "start_time": "2023-09-08T21:18:58.915Z"
   },
   {
    "duration": 195,
    "start_time": "2023-09-08T21:18:59.195Z"
   },
   {
    "duration": 193,
    "start_time": "2023-09-08T21:18:59.392Z"
   },
   {
    "duration": 285,
    "start_time": "2023-09-08T21:18:59.587Z"
   },
   {
    "duration": 215,
    "start_time": "2023-09-08T21:18:59.874Z"
   },
   {
    "duration": 304,
    "start_time": "2023-09-08T21:19:00.091Z"
   },
   {
    "duration": 224,
    "start_time": "2023-09-08T21:19:00.396Z"
   },
   {
    "duration": 4,
    "start_time": "2023-09-08T21:19:00.622Z"
   },
   {
    "duration": 254,
    "start_time": "2023-09-08T21:19:00.627Z"
   },
   {
    "duration": 3,
    "start_time": "2023-09-08T21:19:00.883Z"
   },
   {
    "duration": 239,
    "start_time": "2023-09-08T21:19:00.889Z"
   },
   {
    "duration": 135,
    "start_time": "2023-09-08T21:19:01.129Z"
   },
   {
    "duration": 22,
    "start_time": "2023-09-08T21:19:01.265Z"
   },
   {
    "duration": 39,
    "start_time": "2023-09-08T21:19:01.289Z"
   },
   {
    "duration": 17,
    "start_time": "2023-09-08T21:19:01.329Z"
   },
   {
    "duration": 46,
    "start_time": "2023-09-08T21:19:01.347Z"
   },
   {
    "duration": 21,
    "start_time": "2023-09-08T21:19:01.395Z"
   },
   {
    "duration": 98,
    "start_time": "2023-09-08T21:22:54.001Z"
   },
   {
    "duration": 3,
    "start_time": "2023-09-08T21:23:16.293Z"
   },
   {
    "duration": 32,
    "start_time": "2023-09-08T21:23:16.299Z"
   },
   {
    "duration": 8,
    "start_time": "2023-09-08T21:23:16.333Z"
   },
   {
    "duration": 18,
    "start_time": "2023-09-08T21:23:16.343Z"
   },
   {
    "duration": 16,
    "start_time": "2023-09-08T21:23:16.363Z"
   },
   {
    "duration": 75,
    "start_time": "2023-09-08T21:23:16.381Z"
   },
   {
    "duration": 9,
    "start_time": "2023-09-08T21:23:16.458Z"
   },
   {
    "duration": 40,
    "start_time": "2023-09-08T21:23:16.469Z"
   },
   {
    "duration": 6,
    "start_time": "2023-09-08T21:23:16.511Z"
   },
   {
    "duration": 18,
    "start_time": "2023-09-08T21:23:16.519Z"
   },
   {
    "duration": 5,
    "start_time": "2023-09-08T21:23:16.541Z"
   },
   {
    "duration": 11,
    "start_time": "2023-09-08T21:23:16.548Z"
   },
   {
    "duration": 6,
    "start_time": "2023-09-08T21:23:16.561Z"
   },
   {
    "duration": 11,
    "start_time": "2023-09-08T21:23:16.569Z"
   },
   {
    "duration": 96,
    "start_time": "2023-09-08T21:23:16.581Z"
   },
   {
    "duration": 0,
    "start_time": "2023-09-08T21:23:16.678Z"
   },
   {
    "duration": 0,
    "start_time": "2023-09-08T21:23:16.680Z"
   },
   {
    "duration": 0,
    "start_time": "2023-09-08T21:23:16.681Z"
   },
   {
    "duration": 0,
    "start_time": "2023-09-08T21:23:16.682Z"
   },
   {
    "duration": 0,
    "start_time": "2023-09-08T21:23:16.683Z"
   },
   {
    "duration": 0,
    "start_time": "2023-09-08T21:23:16.684Z"
   },
   {
    "duration": 0,
    "start_time": "2023-09-08T21:23:16.685Z"
   },
   {
    "duration": 0,
    "start_time": "2023-09-08T21:23:16.686Z"
   },
   {
    "duration": 0,
    "start_time": "2023-09-08T21:23:16.687Z"
   },
   {
    "duration": 0,
    "start_time": "2023-09-08T21:23:16.688Z"
   },
   {
    "duration": 0,
    "start_time": "2023-09-08T21:23:16.690Z"
   },
   {
    "duration": 0,
    "start_time": "2023-09-08T21:23:16.691Z"
   },
   {
    "duration": 0,
    "start_time": "2023-09-08T21:23:16.691Z"
   },
   {
    "duration": 0,
    "start_time": "2023-09-08T21:23:16.692Z"
   },
   {
    "duration": 0,
    "start_time": "2023-09-08T21:23:16.693Z"
   },
   {
    "duration": 0,
    "start_time": "2023-09-08T21:23:16.694Z"
   },
   {
    "duration": 0,
    "start_time": "2023-09-08T21:23:16.695Z"
   },
   {
    "duration": 13,
    "start_time": "2023-09-08T21:24:44.648Z"
   },
   {
    "duration": 4,
    "start_time": "2023-09-08T21:26:31.062Z"
   },
   {
    "duration": 90,
    "start_time": "2023-09-08T21:28:55.372Z"
   },
   {
    "duration": 5,
    "start_time": "2023-09-08T21:29:02.117Z"
   },
   {
    "duration": 249,
    "start_time": "2023-09-08T21:29:05.558Z"
   },
   {
    "duration": 192,
    "start_time": "2023-09-08T21:29:06.937Z"
   },
   {
    "duration": 183,
    "start_time": "2023-09-08T21:37:01.225Z"
   },
   {
    "duration": 198,
    "start_time": "2023-09-08T21:38:33.656Z"
   },
   {
    "duration": 228,
    "start_time": "2023-09-08T21:38:49.918Z"
   },
   {
    "duration": 398,
    "start_time": "2023-09-08T21:38:58.982Z"
   },
   {
    "duration": 108,
    "start_time": "2023-09-08T21:39:37.498Z"
   },
   {
    "duration": 302,
    "start_time": "2023-09-08T21:39:44.963Z"
   },
   {
    "duration": 234,
    "start_time": "2023-09-08T21:40:19.947Z"
   },
   {
    "duration": 198,
    "start_time": "2023-09-08T21:41:01.031Z"
   },
   {
    "duration": 195,
    "start_time": "2023-09-08T21:44:38.687Z"
   },
   {
    "duration": 279,
    "start_time": "2023-09-08T21:45:04.497Z"
   },
   {
    "duration": 215,
    "start_time": "2023-09-08T21:45:15.613Z"
   },
   {
    "duration": 4,
    "start_time": "2023-09-08T21:45:39.867Z"
   },
   {
    "duration": 191,
    "start_time": "2023-09-08T21:45:42.262Z"
   },
   {
    "duration": 5,
    "start_time": "2023-09-08T21:45:55.165Z"
   },
   {
    "duration": 198,
    "start_time": "2023-09-08T21:45:57.395Z"
   },
   {
    "duration": 122,
    "start_time": "2023-09-08T21:45:58.437Z"
   },
   {
    "duration": 22,
    "start_time": "2023-09-08T21:45:59.297Z"
   },
   {
    "duration": 9,
    "start_time": "2023-09-08T21:46:01.485Z"
   },
   {
    "duration": 10,
    "start_time": "2023-09-08T21:46:03.479Z"
   },
   {
    "duration": 26,
    "start_time": "2023-09-08T21:46:05.687Z"
   },
   {
    "duration": 14,
    "start_time": "2023-09-08T21:46:07.423Z"
   },
   {
    "duration": 4,
    "start_time": "2023-09-08T21:46:36.703Z"
   },
   {
    "duration": 32,
    "start_time": "2023-09-08T21:46:36.709Z"
   },
   {
    "duration": 7,
    "start_time": "2023-09-08T21:46:36.742Z"
   },
   {
    "duration": 14,
    "start_time": "2023-09-08T21:46:36.750Z"
   },
   {
    "duration": 9,
    "start_time": "2023-09-08T21:46:36.765Z"
   },
   {
    "duration": 50,
    "start_time": "2023-09-08T21:46:36.776Z"
   },
   {
    "duration": 9,
    "start_time": "2023-09-08T21:46:36.827Z"
   },
   {
    "duration": 19,
    "start_time": "2023-09-08T21:46:36.837Z"
   },
   {
    "duration": 5,
    "start_time": "2023-09-08T21:46:36.857Z"
   },
   {
    "duration": 20,
    "start_time": "2023-09-08T21:46:36.863Z"
   },
   {
    "duration": 5,
    "start_time": "2023-09-08T21:46:36.886Z"
   },
   {
    "duration": 7,
    "start_time": "2023-09-08T21:46:36.892Z"
   },
   {
    "duration": 6,
    "start_time": "2023-09-08T21:46:36.900Z"
   },
   {
    "duration": 12,
    "start_time": "2023-09-08T21:46:36.907Z"
   },
   {
    "duration": 32,
    "start_time": "2023-09-08T21:46:36.920Z"
   },
   {
    "duration": 264,
    "start_time": "2023-09-08T21:46:36.954Z"
   },
   {
    "duration": 203,
    "start_time": "2023-09-08T21:46:37.220Z"
   },
   {
    "duration": 211,
    "start_time": "2023-09-08T21:46:37.424Z"
   },
   {
    "duration": 325,
    "start_time": "2023-09-08T21:46:37.637Z"
   },
   {
    "duration": 234,
    "start_time": "2023-09-08T21:46:37.965Z"
   },
   {
    "duration": 314,
    "start_time": "2023-09-08T21:46:38.201Z"
   },
   {
    "duration": 224,
    "start_time": "2023-09-08T21:46:38.516Z"
   },
   {
    "duration": 4,
    "start_time": "2023-09-08T21:46:38.745Z"
   },
   {
    "duration": 352,
    "start_time": "2023-09-08T21:46:38.750Z"
   },
   {
    "duration": 4,
    "start_time": "2023-09-08T21:46:39.104Z"
   },
   {
    "duration": 244,
    "start_time": "2023-09-08T21:46:39.110Z"
   },
   {
    "duration": 142,
    "start_time": "2023-09-08T21:46:39.355Z"
   },
   {
    "duration": 23,
    "start_time": "2023-09-08T21:46:39.499Z"
   },
   {
    "duration": 25,
    "start_time": "2023-09-08T21:46:39.525Z"
   },
   {
    "duration": 20,
    "start_time": "2023-09-08T21:46:39.551Z"
   },
   {
    "duration": 26,
    "start_time": "2023-09-08T21:46:39.573Z"
   },
   {
    "duration": 14,
    "start_time": "2023-09-08T21:46:39.601Z"
   },
   {
    "duration": 313,
    "start_time": "2023-09-08T21:54:01.655Z"
   },
   {
    "duration": 349,
    "start_time": "2023-09-08T21:56:03.327Z"
   },
   {
    "duration": 3,
    "start_time": "2023-09-08T21:57:18.734Z"
   },
   {
    "duration": 31,
    "start_time": "2023-09-08T21:57:18.739Z"
   },
   {
    "duration": 8,
    "start_time": "2023-09-08T21:57:18.771Z"
   },
   {
    "duration": 19,
    "start_time": "2023-09-08T21:57:18.780Z"
   },
   {
    "duration": 18,
    "start_time": "2023-09-08T21:57:18.801Z"
   },
   {
    "duration": 61,
    "start_time": "2023-09-08T21:57:18.821Z"
   },
   {
    "duration": 10,
    "start_time": "2023-09-08T21:57:18.884Z"
   },
   {
    "duration": 19,
    "start_time": "2023-09-08T21:57:18.896Z"
   },
   {
    "duration": 5,
    "start_time": "2023-09-08T21:57:18.917Z"
   },
   {
    "duration": 30,
    "start_time": "2023-09-08T21:57:18.923Z"
   },
   {
    "duration": 7,
    "start_time": "2023-09-08T21:57:18.954Z"
   },
   {
    "duration": 21,
    "start_time": "2023-09-08T21:57:18.963Z"
   },
   {
    "duration": 8,
    "start_time": "2023-09-08T21:57:18.987Z"
   },
   {
    "duration": 12,
    "start_time": "2023-09-08T21:57:18.997Z"
   },
   {
    "duration": 23,
    "start_time": "2023-09-08T21:57:19.010Z"
   },
   {
    "duration": 279,
    "start_time": "2023-09-08T21:57:19.035Z"
   },
   {
    "duration": 234,
    "start_time": "2023-09-08T21:57:19.316Z"
   },
   {
    "duration": 227,
    "start_time": "2023-09-08T21:57:19.552Z"
   },
   {
    "duration": 322,
    "start_time": "2023-09-08T21:57:19.781Z"
   },
   {
    "duration": 251,
    "start_time": "2023-09-08T21:57:20.105Z"
   },
   {
    "duration": 348,
    "start_time": "2023-09-08T21:57:20.358Z"
   },
   {
    "duration": 211,
    "start_time": "2023-09-08T21:57:20.707Z"
   },
   {
    "duration": 3,
    "start_time": "2023-09-08T21:57:20.920Z"
   },
   {
    "duration": 231,
    "start_time": "2023-09-08T21:57:20.924Z"
   },
   {
    "duration": 4,
    "start_time": "2023-09-08T21:57:21.156Z"
   },
   {
    "duration": 202,
    "start_time": "2023-09-08T21:57:21.161Z"
   },
   {
    "duration": 146,
    "start_time": "2023-09-08T21:57:21.365Z"
   },
   {
    "duration": 31,
    "start_time": "2023-09-08T21:57:21.513Z"
   },
   {
    "duration": 9,
    "start_time": "2023-09-08T21:57:21.545Z"
   },
   {
    "duration": 25,
    "start_time": "2023-09-08T21:57:21.555Z"
   },
   {
    "duration": 64,
    "start_time": "2023-09-08T21:57:21.581Z"
   },
   {
    "duration": 11,
    "start_time": "2023-09-08T21:57:21.647Z"
   },
   {
    "duration": 6,
    "start_time": "2023-09-08T22:05:30.047Z"
   },
   {
    "duration": 17,
    "start_time": "2023-09-08T22:05:44.054Z"
   },
   {
    "duration": 24,
    "start_time": "2023-09-08T22:20:00.130Z"
   },
   {
    "duration": 4,
    "start_time": "2023-09-08T22:26:50.658Z"
   },
   {
    "duration": 18,
    "start_time": "2023-09-08T22:26:55.023Z"
   },
   {
    "duration": 10,
    "start_time": "2023-09-08T22:28:08.397Z"
   },
   {
    "duration": 10,
    "start_time": "2023-09-08T22:28:42.569Z"
   },
   {
    "duration": 11,
    "start_time": "2023-09-08T22:29:04.442Z"
   },
   {
    "duration": 5,
    "start_time": "2023-09-08T22:34:57.475Z"
   },
   {
    "duration": 30,
    "start_time": "2023-09-08T22:45:41.617Z"
   },
   {
    "duration": 28,
    "start_time": "2023-09-08T22:47:09.766Z"
   },
   {
    "duration": 16,
    "start_time": "2023-09-08T22:51:05.476Z"
   },
   {
    "duration": 16,
    "start_time": "2023-09-08T22:51:25.358Z"
   },
   {
    "duration": 13,
    "start_time": "2023-09-08T22:51:54.702Z"
   },
   {
    "duration": 1465,
    "start_time": "2023-09-09T12:32:47.249Z"
   },
   {
    "duration": 61,
    "start_time": "2023-09-09T12:32:48.719Z"
   },
   {
    "duration": 14,
    "start_time": "2023-09-09T12:32:48.782Z"
   },
   {
    "duration": 30,
    "start_time": "2023-09-09T12:32:48.798Z"
   },
   {
    "duration": 13,
    "start_time": "2023-09-09T12:32:48.830Z"
   },
   {
    "duration": 159,
    "start_time": "2023-09-09T12:32:48.845Z"
   },
   {
    "duration": 11,
    "start_time": "2023-09-09T12:32:49.013Z"
   },
   {
    "duration": 89,
    "start_time": "2023-09-09T12:32:49.026Z"
   },
   {
    "duration": 8,
    "start_time": "2023-09-09T12:32:49.117Z"
   },
   {
    "duration": 20,
    "start_time": "2023-09-09T12:32:49.127Z"
   },
   {
    "duration": 7,
    "start_time": "2023-09-09T12:32:49.150Z"
   },
   {
    "duration": 13,
    "start_time": "2023-09-09T12:32:49.159Z"
   },
   {
    "duration": 34,
    "start_time": "2023-09-09T12:32:49.174Z"
   },
   {
    "duration": 6,
    "start_time": "2023-09-09T12:32:49.220Z"
   },
   {
    "duration": 30,
    "start_time": "2023-09-09T12:32:49.227Z"
   },
   {
    "duration": 362,
    "start_time": "2023-09-09T12:32:49.258Z"
   },
   {
    "duration": 363,
    "start_time": "2023-09-09T12:32:49.622Z"
   },
   {
    "duration": 272,
    "start_time": "2023-09-09T12:32:49.988Z"
   },
   {
    "duration": 434,
    "start_time": "2023-09-09T12:32:50.263Z"
   },
   {
    "duration": 284,
    "start_time": "2023-09-09T12:32:50.702Z"
   },
   {
    "duration": 415,
    "start_time": "2023-09-09T12:32:50.988Z"
   },
   {
    "duration": 291,
    "start_time": "2023-09-09T12:32:51.413Z"
   },
   {
    "duration": 3,
    "start_time": "2023-09-09T12:32:51.706Z"
   },
   {
    "duration": 280,
    "start_time": "2023-09-09T12:32:51.711Z"
   },
   {
    "duration": 17,
    "start_time": "2023-09-09T12:32:51.993Z"
   },
   {
    "duration": 329,
    "start_time": "2023-09-09T12:32:52.013Z"
   },
   {
    "duration": 167,
    "start_time": "2023-09-09T12:32:52.345Z"
   },
   {
    "duration": 45,
    "start_time": "2023-09-09T12:32:52.516Z"
   },
   {
    "duration": 49,
    "start_time": "2023-09-09T12:32:52.563Z"
   },
   {
    "duration": 57,
    "start_time": "2023-09-09T12:32:52.614Z"
   },
   {
    "duration": 24,
    "start_time": "2023-09-09T12:32:52.673Z"
   },
   {
    "duration": 59,
    "start_time": "2023-09-09T12:32:52.700Z"
   },
   {
    "duration": 87,
    "start_time": "2023-09-09T12:32:52.761Z"
   },
   {
    "duration": 0,
    "start_time": "2023-09-09T12:32:52.849Z"
   },
   {
    "duration": 18,
    "start_time": "2023-09-09T12:35:36.454Z"
   },
   {
    "duration": 1241,
    "start_time": "2023-09-09T12:36:55.651Z"
   },
   {
    "duration": 37,
    "start_time": "2023-09-09T12:36:56.894Z"
   },
   {
    "duration": 12,
    "start_time": "2023-09-09T12:36:56.934Z"
   },
   {
    "duration": 13,
    "start_time": "2023-09-09T12:36:56.947Z"
   },
   {
    "duration": 12,
    "start_time": "2023-09-09T12:36:56.963Z"
   },
   {
    "duration": 60,
    "start_time": "2023-09-09T12:36:56.976Z"
   },
   {
    "duration": 12,
    "start_time": "2023-09-09T12:36:57.037Z"
   },
   {
    "duration": 21,
    "start_time": "2023-09-09T12:36:57.050Z"
   },
   {
    "duration": 16,
    "start_time": "2023-09-09T12:36:57.073Z"
   },
   {
    "duration": 35,
    "start_time": "2023-09-09T12:36:57.091Z"
   },
   {
    "duration": 24,
    "start_time": "2023-09-09T12:36:57.128Z"
   },
   {
    "duration": 29,
    "start_time": "2023-09-09T12:36:57.155Z"
   },
   {
    "duration": 61,
    "start_time": "2023-09-09T12:36:57.186Z"
   },
   {
    "duration": 12,
    "start_time": "2023-09-09T12:36:57.250Z"
   },
   {
    "duration": 27,
    "start_time": "2023-09-09T12:36:57.264Z"
   },
   {
    "duration": 338,
    "start_time": "2023-09-09T12:36:57.293Z"
   },
   {
    "duration": 343,
    "start_time": "2023-09-09T12:36:57.633Z"
   },
   {
    "duration": 264,
    "start_time": "2023-09-09T12:36:57.978Z"
   },
   {
    "duration": 340,
    "start_time": "2023-09-09T12:36:58.243Z"
   },
   {
    "duration": 308,
    "start_time": "2023-09-09T12:36:58.584Z"
   },
   {
    "duration": 383,
    "start_time": "2023-09-09T12:36:58.900Z"
   },
   {
    "duration": 276,
    "start_time": "2023-09-09T12:36:59.285Z"
   },
   {
    "duration": 5,
    "start_time": "2023-09-09T12:36:59.563Z"
   },
   {
    "duration": 283,
    "start_time": "2023-09-09T12:36:59.570Z"
   },
   {
    "duration": 4,
    "start_time": "2023-09-09T12:36:59.855Z"
   },
   {
    "duration": 358,
    "start_time": "2023-09-09T12:36:59.861Z"
   },
   {
    "duration": 162,
    "start_time": "2023-09-09T12:37:00.221Z"
   },
   {
    "duration": 44,
    "start_time": "2023-09-09T12:37:00.385Z"
   },
   {
    "duration": 12,
    "start_time": "2023-09-09T12:37:00.430Z"
   },
   {
    "duration": 73,
    "start_time": "2023-09-09T12:37:00.444Z"
   },
   {
    "duration": 59,
    "start_time": "2023-09-09T12:37:00.520Z"
   },
   {
    "duration": 129,
    "start_time": "2023-09-09T12:37:00.581Z"
   },
   {
    "duration": 80,
    "start_time": "2023-09-09T12:37:00.717Z"
   },
   {
    "duration": 0,
    "start_time": "2023-09-09T12:37:00.800Z"
   },
   {
    "duration": 79,
    "start_time": "2023-09-09T21:30:10.873Z"
   },
   {
    "duration": 1503,
    "start_time": "2023-09-09T21:30:16.196Z"
   },
   {
    "duration": 69,
    "start_time": "2023-09-09T21:30:17.704Z"
   },
   {
    "duration": 14,
    "start_time": "2023-09-09T21:30:17.775Z"
   },
   {
    "duration": 24,
    "start_time": "2023-09-09T21:30:17.791Z"
   },
   {
    "duration": 17,
    "start_time": "2023-09-09T21:30:17.817Z"
   },
   {
    "duration": 132,
    "start_time": "2023-09-09T21:30:17.836Z"
   },
   {
    "duration": 11,
    "start_time": "2023-09-09T21:30:17.971Z"
   },
   {
    "duration": 40,
    "start_time": "2023-09-09T21:30:17.984Z"
   },
   {
    "duration": 6,
    "start_time": "2023-09-09T21:30:18.026Z"
   },
   {
    "duration": 26,
    "start_time": "2023-09-09T21:30:18.034Z"
   },
   {
    "duration": 12,
    "start_time": "2023-09-09T21:30:18.062Z"
   },
   {
    "duration": 13,
    "start_time": "2023-09-09T21:30:18.077Z"
   },
   {
    "duration": 14,
    "start_time": "2023-09-09T21:30:18.101Z"
   },
   {
    "duration": 10,
    "start_time": "2023-09-09T21:30:18.116Z"
   },
   {
    "duration": 28,
    "start_time": "2023-09-09T21:30:18.127Z"
   },
   {
    "duration": 326,
    "start_time": "2023-09-09T21:30:18.157Z"
   },
   {
    "duration": 374,
    "start_time": "2023-09-09T21:30:18.485Z"
   },
   {
    "duration": 257,
    "start_time": "2023-09-09T21:30:18.861Z"
   },
   {
    "duration": 385,
    "start_time": "2023-09-09T21:30:19.120Z"
   },
   {
    "duration": 291,
    "start_time": "2023-09-09T21:30:19.512Z"
   },
   {
    "duration": 373,
    "start_time": "2023-09-09T21:30:19.811Z"
   },
   {
    "duration": 282,
    "start_time": "2023-09-09T21:30:20.186Z"
   },
   {
    "duration": 5,
    "start_time": "2023-09-09T21:30:20.470Z"
   },
   {
    "duration": 324,
    "start_time": "2023-09-09T21:30:20.477Z"
   },
   {
    "duration": 8,
    "start_time": "2023-09-09T21:30:20.803Z"
   },
   {
    "duration": 337,
    "start_time": "2023-09-09T21:30:20.819Z"
   },
   {
    "duration": 168,
    "start_time": "2023-09-09T21:30:21.157Z"
   },
   {
    "duration": 27,
    "start_time": "2023-09-09T21:30:21.328Z"
   },
   {
    "duration": 36,
    "start_time": "2023-09-09T21:30:21.357Z"
   },
   {
    "duration": 56,
    "start_time": "2023-09-09T21:30:21.394Z"
   },
   {
    "duration": 69,
    "start_time": "2023-09-09T21:30:21.452Z"
   },
   {
    "duration": 54,
    "start_time": "2023-09-09T21:30:21.524Z"
   },
   {
    "duration": 35,
    "start_time": "2023-09-09T21:30:21.580Z"
   },
   {
    "duration": 77,
    "start_time": "2023-09-09T21:32:32.819Z"
   },
   {
    "duration": 28,
    "start_time": "2023-09-09T21:32:59.994Z"
   },
   {
    "duration": 5,
    "start_time": "2023-09-09T21:33:00.856Z"
   },
   {
    "duration": 14,
    "start_time": "2023-09-09T21:34:00.699Z"
   },
   {
    "duration": 6,
    "start_time": "2023-09-09T21:35:01.587Z"
   },
   {
    "duration": 7,
    "start_time": "2023-09-09T21:35:15.016Z"
   },
   {
    "duration": 52,
    "start_time": "2023-09-10T20:33:29.655Z"
   },
   {
    "duration": 1440,
    "start_time": "2023-09-10T20:33:41.733Z"
   },
   {
    "duration": 61,
    "start_time": "2023-09-10T20:33:43.175Z"
   },
   {
    "duration": 13,
    "start_time": "2023-09-10T20:33:43.237Z"
   },
   {
    "duration": 18,
    "start_time": "2023-09-10T20:33:43.253Z"
   },
   {
    "duration": 11,
    "start_time": "2023-09-10T20:33:43.273Z"
   },
   {
    "duration": 184,
    "start_time": "2023-09-10T20:33:43.286Z"
   },
   {
    "duration": 10,
    "start_time": "2023-09-10T20:33:43.472Z"
   },
   {
    "duration": 18,
    "start_time": "2023-09-10T20:33:43.484Z"
   },
   {
    "duration": 24,
    "start_time": "2023-09-10T20:33:43.503Z"
   },
   {
    "duration": 24,
    "start_time": "2023-09-10T20:33:43.529Z"
   },
   {
    "duration": 15,
    "start_time": "2023-09-10T20:33:43.556Z"
   },
   {
    "duration": 8,
    "start_time": "2023-09-10T20:33:43.573Z"
   },
   {
    "duration": 18,
    "start_time": "2023-09-10T20:33:43.583Z"
   },
   {
    "duration": 8,
    "start_time": "2023-09-10T20:33:43.603Z"
   },
   {
    "duration": 14,
    "start_time": "2023-09-10T20:33:43.613Z"
   },
   {
    "duration": 15,
    "start_time": "2023-09-10T20:33:43.628Z"
   },
   {
    "duration": 31,
    "start_time": "2023-09-10T20:33:43.645Z"
   },
   {
    "duration": 19,
    "start_time": "2023-09-10T20:33:43.677Z"
   },
   {
    "duration": 333,
    "start_time": "2023-09-10T20:33:43.698Z"
   },
   {
    "duration": 343,
    "start_time": "2023-09-10T20:33:44.032Z"
   },
   {
    "duration": 311,
    "start_time": "2023-09-10T20:33:44.378Z"
   },
   {
    "duration": 349,
    "start_time": "2023-09-10T20:33:44.690Z"
   },
   {
    "duration": 274,
    "start_time": "2023-09-10T20:33:45.041Z"
   },
   {
    "duration": 416,
    "start_time": "2023-09-10T20:33:45.317Z"
   },
   {
    "duration": 263,
    "start_time": "2023-09-10T20:33:45.735Z"
   },
   {
    "duration": 4,
    "start_time": "2023-09-10T20:33:46.000Z"
   },
   {
    "duration": 355,
    "start_time": "2023-09-10T20:33:46.006Z"
   },
   {
    "duration": 4,
    "start_time": "2023-09-10T20:33:46.367Z"
   },
   {
    "duration": 249,
    "start_time": "2023-09-10T20:33:46.373Z"
   },
   {
    "duration": 148,
    "start_time": "2023-09-10T20:33:46.624Z"
   },
   {
    "duration": 25,
    "start_time": "2023-09-10T20:33:46.774Z"
   },
   {
    "duration": 11,
    "start_time": "2023-09-10T20:33:46.801Z"
   },
   {
    "duration": 31,
    "start_time": "2023-09-10T20:33:46.814Z"
   },
   {
    "duration": 35,
    "start_time": "2023-09-10T20:33:46.847Z"
   },
   {
    "duration": 47,
    "start_time": "2023-09-10T20:33:46.884Z"
   },
   {
    "duration": 13,
    "start_time": "2023-09-10T20:33:46.933Z"
   },
   {
    "duration": 8,
    "start_time": "2023-09-10T20:40:17.111Z"
   },
   {
    "duration": 5,
    "start_time": "2023-09-10T20:41:17.354Z"
   },
   {
    "duration": 5,
    "start_time": "2023-09-10T20:41:25.094Z"
   },
   {
    "duration": 8,
    "start_time": "2023-09-10T20:43:06.060Z"
   },
   {
    "duration": 5,
    "start_time": "2023-09-10T20:43:18.699Z"
   },
   {
    "duration": 5,
    "start_time": "2023-09-10T20:44:26.398Z"
   },
   {
    "duration": 4,
    "start_time": "2023-09-10T20:44:55.933Z"
   },
   {
    "duration": 3,
    "start_time": "2023-09-10T20:45:56.073Z"
   },
   {
    "duration": 7,
    "start_time": "2023-09-10T20:45:58.762Z"
   },
   {
    "duration": 5,
    "start_time": "2023-09-10T20:46:03.459Z"
   },
   {
    "duration": 5,
    "start_time": "2023-09-10T20:46:06.999Z"
   },
   {
    "duration": 5,
    "start_time": "2023-09-10T20:46:16.479Z"
   },
   {
    "duration": 5,
    "start_time": "2023-09-10T20:57:42.215Z"
   },
   {
    "duration": 3,
    "start_time": "2023-09-10T20:57:43.296Z"
   },
   {
    "duration": 6,
    "start_time": "2023-09-10T20:57:44.494Z"
   },
   {
    "duration": 63,
    "start_time": "2023-09-10T20:57:47.976Z"
   },
   {
    "duration": 4,
    "start_time": "2023-09-10T20:58:01.126Z"
   },
   {
    "duration": 73,
    "start_time": "2023-09-10T20:58:01.132Z"
   },
   {
    "duration": 8,
    "start_time": "2023-09-10T20:58:01.207Z"
   },
   {
    "duration": 33,
    "start_time": "2023-09-10T20:58:01.217Z"
   },
   {
    "duration": 26,
    "start_time": "2023-09-10T20:58:01.253Z"
   },
   {
    "duration": 86,
    "start_time": "2023-09-10T20:58:01.281Z"
   },
   {
    "duration": 11,
    "start_time": "2023-09-10T20:58:01.368Z"
   },
   {
    "duration": 60,
    "start_time": "2023-09-10T20:58:01.380Z"
   },
   {
    "duration": 28,
    "start_time": "2023-09-10T20:58:01.442Z"
   },
   {
    "duration": 51,
    "start_time": "2023-09-10T20:58:01.472Z"
   },
   {
    "duration": 40,
    "start_time": "2023-09-10T20:58:01.527Z"
   },
   {
    "duration": 32,
    "start_time": "2023-09-10T20:58:01.569Z"
   },
   {
    "duration": 65,
    "start_time": "2023-09-10T20:58:01.603Z"
   },
   {
    "duration": 28,
    "start_time": "2023-09-10T20:58:01.670Z"
   },
   {
    "duration": 41,
    "start_time": "2023-09-10T20:58:01.699Z"
   },
   {
    "duration": 32,
    "start_time": "2023-09-10T20:58:01.743Z"
   },
   {
    "duration": 34,
    "start_time": "2023-09-10T20:58:01.778Z"
   },
   {
    "duration": 46,
    "start_time": "2023-09-10T20:58:01.813Z"
   },
   {
    "duration": 31,
    "start_time": "2023-09-10T20:58:01.862Z"
   },
   {
    "duration": 67,
    "start_time": "2023-09-10T20:58:01.895Z"
   },
   {
    "duration": 54,
    "start_time": "2023-09-10T20:58:01.965Z"
   },
   {
    "duration": 0,
    "start_time": "2023-09-10T20:58:02.022Z"
   },
   {
    "duration": 0,
    "start_time": "2023-09-10T20:58:02.024Z"
   },
   {
    "duration": 0,
    "start_time": "2023-09-10T20:58:02.025Z"
   },
   {
    "duration": 0,
    "start_time": "2023-09-10T20:58:02.026Z"
   },
   {
    "duration": 0,
    "start_time": "2023-09-10T20:58:02.027Z"
   },
   {
    "duration": 0,
    "start_time": "2023-09-10T20:58:02.028Z"
   },
   {
    "duration": 0,
    "start_time": "2023-09-10T20:58:02.029Z"
   },
   {
    "duration": 0,
    "start_time": "2023-09-10T20:58:02.030Z"
   },
   {
    "duration": 0,
    "start_time": "2023-09-10T20:58:02.031Z"
   },
   {
    "duration": 0,
    "start_time": "2023-09-10T20:58:02.032Z"
   },
   {
    "duration": 0,
    "start_time": "2023-09-10T20:58:02.034Z"
   },
   {
    "duration": 0,
    "start_time": "2023-09-10T20:58:02.035Z"
   },
   {
    "duration": 0,
    "start_time": "2023-09-10T20:58:02.036Z"
   },
   {
    "duration": 0,
    "start_time": "2023-09-10T20:58:02.037Z"
   },
   {
    "duration": 0,
    "start_time": "2023-09-10T20:58:02.038Z"
   },
   {
    "duration": 0,
    "start_time": "2023-09-10T20:58:02.039Z"
   },
   {
    "duration": 0,
    "start_time": "2023-09-10T20:58:02.040Z"
   },
   {
    "duration": 0,
    "start_time": "2023-09-10T20:58:02.041Z"
   },
   {
    "duration": 25,
    "start_time": "2023-09-10T20:58:57.637Z"
   },
   {
    "duration": 10,
    "start_time": "2023-09-10T21:01:28.756Z"
   },
   {
    "duration": 3,
    "start_time": "2023-09-10T21:08:08.835Z"
   },
   {
    "duration": 50,
    "start_time": "2023-09-10T21:08:08.841Z"
   },
   {
    "duration": 9,
    "start_time": "2023-09-10T21:08:08.893Z"
   },
   {
    "duration": 17,
    "start_time": "2023-09-10T21:08:08.905Z"
   },
   {
    "duration": 28,
    "start_time": "2023-09-10T21:08:08.923Z"
   },
   {
    "duration": 57,
    "start_time": "2023-09-10T21:08:08.953Z"
   },
   {
    "duration": 12,
    "start_time": "2023-09-10T21:08:09.012Z"
   },
   {
    "duration": 47,
    "start_time": "2023-09-10T21:08:09.026Z"
   },
   {
    "duration": 5,
    "start_time": "2023-09-10T21:08:09.076Z"
   },
   {
    "duration": 34,
    "start_time": "2023-09-10T21:08:09.083Z"
   },
   {
    "duration": 11,
    "start_time": "2023-09-10T21:08:09.119Z"
   },
   {
    "duration": 27,
    "start_time": "2023-09-10T21:08:09.132Z"
   },
   {
    "duration": 11,
    "start_time": "2023-09-10T21:08:09.162Z"
   },
   {
    "duration": 12,
    "start_time": "2023-09-10T21:08:09.175Z"
   },
   {
    "duration": 28,
    "start_time": "2023-09-10T21:08:09.189Z"
   },
   {
    "duration": 4,
    "start_time": "2023-09-10T21:08:09.219Z"
   },
   {
    "duration": 19,
    "start_time": "2023-09-10T21:08:09.225Z"
   },
   {
    "duration": 11,
    "start_time": "2023-09-10T21:08:09.246Z"
   },
   {
    "duration": 7,
    "start_time": "2023-09-10T21:08:09.260Z"
   },
   {
    "duration": 16,
    "start_time": "2023-09-10T21:08:09.272Z"
   },
   {
    "duration": 339,
    "start_time": "2023-09-10T21:08:09.290Z"
   },
   {
    "duration": 275,
    "start_time": "2023-09-10T21:08:09.630Z"
   },
   {
    "duration": 282,
    "start_time": "2023-09-10T21:08:09.907Z"
   },
   {
    "duration": 345,
    "start_time": "2023-09-10T21:08:10.192Z"
   },
   {
    "duration": 286,
    "start_time": "2023-09-10T21:08:10.547Z"
   },
   {
    "duration": 403,
    "start_time": "2023-09-10T21:08:10.835Z"
   },
   {
    "duration": 295,
    "start_time": "2023-09-10T21:08:11.243Z"
   },
   {
    "duration": 9,
    "start_time": "2023-09-10T21:08:11.541Z"
   },
   {
    "duration": 260,
    "start_time": "2023-09-10T21:08:11.553Z"
   },
   {
    "duration": 4,
    "start_time": "2023-09-10T21:08:11.815Z"
   },
   {
    "duration": 281,
    "start_time": "2023-09-10T21:08:11.821Z"
   },
   {
    "duration": 192,
    "start_time": "2023-09-10T21:08:12.104Z"
   },
   {
    "duration": 26,
    "start_time": "2023-09-10T21:08:12.298Z"
   },
   {
    "duration": 28,
    "start_time": "2023-09-10T21:08:12.326Z"
   },
   {
    "duration": 14,
    "start_time": "2023-09-10T21:08:12.358Z"
   },
   {
    "duration": 43,
    "start_time": "2023-09-10T21:08:12.374Z"
   },
   {
    "duration": 33,
    "start_time": "2023-09-10T21:08:12.419Z"
   },
   {
    "duration": 17,
    "start_time": "2023-09-10T21:08:12.455Z"
   },
   {
    "duration": 5,
    "start_time": "2023-09-10T21:12:49.562Z"
   },
   {
    "duration": 36,
    "start_time": "2023-09-10T21:12:49.569Z"
   },
   {
    "duration": 8,
    "start_time": "2023-09-10T21:12:49.607Z"
   },
   {
    "duration": 22,
    "start_time": "2023-09-10T21:12:49.617Z"
   },
   {
    "duration": 36,
    "start_time": "2023-09-10T21:12:49.641Z"
   },
   {
    "duration": 62,
    "start_time": "2023-09-10T21:12:49.679Z"
   },
   {
    "duration": 19,
    "start_time": "2023-09-10T21:12:49.743Z"
   },
   {
    "duration": 24,
    "start_time": "2023-09-10T21:12:49.764Z"
   },
   {
    "duration": 6,
    "start_time": "2023-09-10T21:12:49.790Z"
   },
   {
    "duration": 24,
    "start_time": "2023-09-10T21:12:49.798Z"
   },
   {
    "duration": 9,
    "start_time": "2023-09-10T21:12:49.845Z"
   },
   {
    "duration": 22,
    "start_time": "2023-09-10T21:12:49.857Z"
   },
   {
    "duration": 10,
    "start_time": "2023-09-10T21:12:49.882Z"
   },
   {
    "duration": 7,
    "start_time": "2023-09-10T21:12:49.894Z"
   },
   {
    "duration": 17,
    "start_time": "2023-09-10T21:12:49.902Z"
   },
   {
    "duration": 4,
    "start_time": "2023-09-10T21:12:49.921Z"
   },
   {
    "duration": 25,
    "start_time": "2023-09-10T21:12:49.927Z"
   },
   {
    "duration": 23,
    "start_time": "2023-09-10T21:12:49.955Z"
   },
   {
    "duration": 7,
    "start_time": "2023-09-10T21:12:49.980Z"
   },
   {
    "duration": 8,
    "start_time": "2023-09-10T21:12:49.988Z"
   },
   {
    "duration": 328,
    "start_time": "2023-09-10T21:12:49.997Z"
   },
   {
    "duration": 270,
    "start_time": "2023-09-10T21:12:50.327Z"
   },
   {
    "duration": 283,
    "start_time": "2023-09-10T21:12:50.599Z"
   },
   {
    "duration": 338,
    "start_time": "2023-09-10T21:12:50.884Z"
   },
   {
    "duration": 392,
    "start_time": "2023-09-10T21:12:51.225Z"
   },
   {
    "duration": 410,
    "start_time": "2023-09-10T21:12:51.619Z"
   },
   {
    "duration": 268,
    "start_time": "2023-09-10T21:12:52.031Z"
   },
   {
    "duration": 5,
    "start_time": "2023-09-10T21:12:52.301Z"
   },
   {
    "duration": 272,
    "start_time": "2023-09-10T21:12:52.309Z"
   },
   {
    "duration": 5,
    "start_time": "2023-09-10T21:12:52.583Z"
   },
   {
    "duration": 262,
    "start_time": "2023-09-10T21:12:52.589Z"
   },
   {
    "duration": 173,
    "start_time": "2023-09-10T21:12:52.854Z"
   },
   {
    "duration": 53,
    "start_time": "2023-09-10T21:12:53.029Z"
   },
   {
    "duration": 12,
    "start_time": "2023-09-10T21:12:53.085Z"
   },
   {
    "duration": 11,
    "start_time": "2023-09-10T21:12:53.099Z"
   },
   {
    "duration": 20,
    "start_time": "2023-09-10T21:12:53.144Z"
   },
   {
    "duration": 35,
    "start_time": "2023-09-10T21:12:53.167Z"
   },
   {
    "duration": 15,
    "start_time": "2023-09-10T21:12:53.204Z"
   }
  ],
  "kernelspec": {
   "display_name": "Python 3 (ipykernel)",
   "language": "python",
   "name": "python3"
  },
  "language_info": {
   "codemirror_mode": {
    "name": "ipython",
    "version": 3
   },
   "file_extension": ".py",
   "mimetype": "text/x-python",
   "name": "python",
   "nbconvert_exporter": "python",
   "pygments_lexer": "ipython3",
   "version": "3.9.5"
  },
  "toc": {
   "base_numbering": 1,
   "nav_menu": {},
   "number_sections": true,
   "sideBar": true,
   "skip_h1_title": true,
   "title_cell": "Table of Contents",
   "title_sidebar": "Contents",
   "toc_cell": false,
   "toc_position": {},
   "toc_section_display": true,
   "toc_window_display": false
  }
 },
 "nbformat": 4,
 "nbformat_minor": 2
}
